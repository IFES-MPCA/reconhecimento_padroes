{
 "cells": [
  {
   "cell_type": "markdown",
   "source": [
    "# Regressão Linear - World Happiness Report\n",
    "\n",
    "[Dataset](https://www.openml.org/search?type=data&sort=runs&status=active&qualities.NumberOfClasses=lte_1&id=40916)"
   ],
   "metadata": {
    "collapsed": false,
    "pycharm": {
     "name": "#%% md\n"
    }
   }
  },
  {
   "cell_type": "markdown",
   "source": [
    "## Carregamento do dataset"
   ],
   "metadata": {
    "collapsed": false,
    "pycharm": {
     "name": "#%% md\n"
    }
   }
  },
  {
   "cell_type": "code",
   "execution_count": 1,
   "outputs": [],
   "source": [
    "from pandas import DataFrame\n",
    "from sklearn.datasets import fetch_openml\n",
    "\n",
    "happiness_dataset = fetch_openml(data_id=40916)"
   ],
   "metadata": {
    "collapsed": false,
    "pycharm": {
     "name": "#%%\n"
    }
   }
  },
  {
   "cell_type": "markdown",
   "source": [
    "## Metadados do dataset"
   ],
   "metadata": {
    "collapsed": false,
    "pycharm": {
     "name": "#%% md\n"
    }
   }
  },
  {
   "cell_type": "code",
   "execution_count": 2,
   "outputs": [
    {
     "data": {
      "text/plain": "dict_keys(['data', 'target', 'frame', 'categories', 'feature_names', 'target_names', 'DESCR', 'details', 'url'])"
     },
     "execution_count": 2,
     "metadata": {},
     "output_type": "execute_result"
    }
   ],
   "source": [
    "happiness_dataset.keys()"
   ],
   "metadata": {
    "collapsed": false,
    "pycharm": {
     "name": "#%%\n"
    }
   }
  },
  {
   "cell_type": "code",
   "execution_count": 3,
   "outputs": [
    {
     "data": {
      "text/plain": "'**Author**: Sustainable Development Solutions Network  \\n**Source**: [Kaggle](https://www.kaggle.com/unsdsn/world-happiness) - 2017  \\n**Please cite**: None indicated  \\n\\n**The World Happiness Report** is a landmark survey of the state of global happiness. The first report was published in 2012, the second in 2013, the third in 2015 (represented here), and the fourth in the 2016 Update. The World Happiness 2017, which ranks 155 countries by their happiness levels, was released at the United Nations at an event celebrating International Day of Happiness on March 20th. The report continues to gain global recognition as governments, organizations and civil society increasingly use happiness indicators to inform their policy-making decisions. Leading experts across fields – economics, psychology, survey analysis, national statistics, health, public policy and more – describe how measurements of well-being can be used effectively to assess the progress of nations. The reports review the state of happiness in the world today and show how the new science of happiness explains personal and national variations in happiness.\\n\\nThe happiness scores and rankings use data from the Gallup World Poll. The scores are based on answers to the main life evaluation question asked in the poll. This question, known as the Cantril ladder, asks respondents to think of a ladder with the best possible life for them being a 10 and the worst possible life being a 0 and to rate their own current lives on that scale. The scores are from nationally representative samples for the years 2013-2016 and use the Gallup weights to make the estimates representative. The columns following the happiness score estimate the extent to which each of six factors – economic production, social support, life expectancy, freedom, absence of corruption, and generosity – contribute to making life evaluations higher in each country than they are in Dystopia, a hypothetical country that has values equal to the world’s lowest national averages for each of the six factors. They have no impact on the total score reported for each country, but they do explain why some countries rank higher than others.\\n\\n\\n### Attribute description  \\nThe following columns: GDP per Capita, Family, Life Expectancy, Freedom, Generosity, Trust Government Corruption describe the extent to which these factors contribute in evaluating the happiness in each country. The Dystopia Residual metric actually is the Dystopia Happiness Score(1.85) + the Residual value or the unexplained value for each country as stated in the previous answer.\\n\\nIf you add all these factors up, you get the happiness score so it might be un-reliable to model them to predict Happiness Scores.\\n\\nDownloaded from openml.org.'"
     },
     "execution_count": 3,
     "metadata": {},
     "output_type": "execute_result"
    }
   ],
   "source": [
    "happiness_dataset['DESCR']"
   ],
   "metadata": {
    "collapsed": false,
    "pycharm": {
     "name": "#%%\n"
    }
   }
  },
  {
   "cell_type": "code",
   "execution_count": 4,
   "outputs": [
    {
     "data": {
      "text/plain": "                              Region  Happiness Rank  Standard Error  \\\n0                     Western Europe             1.0         0.03411   \n1                     Western Europe             2.0         0.04884   \n2                     Western Europe             3.0         0.03328   \n3                     Western Europe             4.0         0.03880   \n4                      North America             5.0         0.03553   \n..                               ...             ...             ...   \n153               Sub-Saharan Africa           154.0         0.03464   \n154               Sub-Saharan Africa           155.0         0.03656   \n155  Middle East and Northern Africa           156.0         0.05015   \n156               Sub-Saharan Africa           157.0         0.08658   \n157               Sub-Saharan Africa           158.0         0.06727   \n\n     Economy (GDP per Capita)   Family  Health (Life Expectancy)  Freedom  \\\n0                     1.39651  1.34951                   0.94143  0.66557   \n1                     1.30232  1.40223                   0.94784  0.62877   \n2                     1.32548  1.36058                   0.87464  0.64938   \n3                     1.45900  1.33095                   0.88521  0.66973   \n4                     1.32629  1.32261                   0.90563  0.63297   \n..                        ...      ...                       ...      ...   \n153                   0.22208  0.77370                   0.42864  0.59201   \n154                   0.28665  0.35386                   0.31910  0.48450   \n155                   0.66320  0.47489                   0.72193  0.15684   \n156                   0.01530  0.41587                   0.22396  0.11850   \n157                   0.20868  0.13995                   0.28443  0.36453   \n\n     Trust (Government Corruption)  Generosity  Dystopia Residual  \n0                          0.41978     0.29678            2.51738  \n1                          0.14145     0.43630            2.70201  \n2                          0.48357     0.34139            2.49204  \n3                          0.36503     0.34699            2.46531  \n4                          0.32957     0.45811            2.45176  \n..                             ...         ...                ...  \n153                        0.55191     0.22628            0.67042  \n154                        0.08010     0.18260            1.63328  \n155                        0.18906     0.47179            0.32858  \n156                        0.10062     0.19727            1.83302  \n157                        0.10731     0.16681            1.56726  \n\n[158 rows x 10 columns]",
      "text/html": "<div>\n<style scoped>\n    .dataframe tbody tr th:only-of-type {\n        vertical-align: middle;\n    }\n\n    .dataframe tbody tr th {\n        vertical-align: top;\n    }\n\n    .dataframe thead th {\n        text-align: right;\n    }\n</style>\n<table border=\"1\" class=\"dataframe\">\n  <thead>\n    <tr style=\"text-align: right;\">\n      <th></th>\n      <th>Region</th>\n      <th>Happiness Rank</th>\n      <th>Standard Error</th>\n      <th>Economy (GDP per Capita)</th>\n      <th>Family</th>\n      <th>Health (Life Expectancy)</th>\n      <th>Freedom</th>\n      <th>Trust (Government Corruption)</th>\n      <th>Generosity</th>\n      <th>Dystopia Residual</th>\n    </tr>\n  </thead>\n  <tbody>\n    <tr>\n      <th>0</th>\n      <td>Western Europe</td>\n      <td>1.0</td>\n      <td>0.03411</td>\n      <td>1.39651</td>\n      <td>1.34951</td>\n      <td>0.94143</td>\n      <td>0.66557</td>\n      <td>0.41978</td>\n      <td>0.29678</td>\n      <td>2.51738</td>\n    </tr>\n    <tr>\n      <th>1</th>\n      <td>Western Europe</td>\n      <td>2.0</td>\n      <td>0.04884</td>\n      <td>1.30232</td>\n      <td>1.40223</td>\n      <td>0.94784</td>\n      <td>0.62877</td>\n      <td>0.14145</td>\n      <td>0.43630</td>\n      <td>2.70201</td>\n    </tr>\n    <tr>\n      <th>2</th>\n      <td>Western Europe</td>\n      <td>3.0</td>\n      <td>0.03328</td>\n      <td>1.32548</td>\n      <td>1.36058</td>\n      <td>0.87464</td>\n      <td>0.64938</td>\n      <td>0.48357</td>\n      <td>0.34139</td>\n      <td>2.49204</td>\n    </tr>\n    <tr>\n      <th>3</th>\n      <td>Western Europe</td>\n      <td>4.0</td>\n      <td>0.03880</td>\n      <td>1.45900</td>\n      <td>1.33095</td>\n      <td>0.88521</td>\n      <td>0.66973</td>\n      <td>0.36503</td>\n      <td>0.34699</td>\n      <td>2.46531</td>\n    </tr>\n    <tr>\n      <th>4</th>\n      <td>North America</td>\n      <td>5.0</td>\n      <td>0.03553</td>\n      <td>1.32629</td>\n      <td>1.32261</td>\n      <td>0.90563</td>\n      <td>0.63297</td>\n      <td>0.32957</td>\n      <td>0.45811</td>\n      <td>2.45176</td>\n    </tr>\n    <tr>\n      <th>...</th>\n      <td>...</td>\n      <td>...</td>\n      <td>...</td>\n      <td>...</td>\n      <td>...</td>\n      <td>...</td>\n      <td>...</td>\n      <td>...</td>\n      <td>...</td>\n      <td>...</td>\n    </tr>\n    <tr>\n      <th>153</th>\n      <td>Sub-Saharan Africa</td>\n      <td>154.0</td>\n      <td>0.03464</td>\n      <td>0.22208</td>\n      <td>0.77370</td>\n      <td>0.42864</td>\n      <td>0.59201</td>\n      <td>0.55191</td>\n      <td>0.22628</td>\n      <td>0.67042</td>\n    </tr>\n    <tr>\n      <th>154</th>\n      <td>Sub-Saharan Africa</td>\n      <td>155.0</td>\n      <td>0.03656</td>\n      <td>0.28665</td>\n      <td>0.35386</td>\n      <td>0.31910</td>\n      <td>0.48450</td>\n      <td>0.08010</td>\n      <td>0.18260</td>\n      <td>1.63328</td>\n    </tr>\n    <tr>\n      <th>155</th>\n      <td>Middle East and Northern Africa</td>\n      <td>156.0</td>\n      <td>0.05015</td>\n      <td>0.66320</td>\n      <td>0.47489</td>\n      <td>0.72193</td>\n      <td>0.15684</td>\n      <td>0.18906</td>\n      <td>0.47179</td>\n      <td>0.32858</td>\n    </tr>\n    <tr>\n      <th>156</th>\n      <td>Sub-Saharan Africa</td>\n      <td>157.0</td>\n      <td>0.08658</td>\n      <td>0.01530</td>\n      <td>0.41587</td>\n      <td>0.22396</td>\n      <td>0.11850</td>\n      <td>0.10062</td>\n      <td>0.19727</td>\n      <td>1.83302</td>\n    </tr>\n    <tr>\n      <th>157</th>\n      <td>Sub-Saharan Africa</td>\n      <td>158.0</td>\n      <td>0.06727</td>\n      <td>0.20868</td>\n      <td>0.13995</td>\n      <td>0.28443</td>\n      <td>0.36453</td>\n      <td>0.10731</td>\n      <td>0.16681</td>\n      <td>1.56726</td>\n    </tr>\n  </tbody>\n</table>\n<p>158 rows × 10 columns</p>\n</div>"
     },
     "execution_count": 4,
     "metadata": {},
     "output_type": "execute_result"
    }
   ],
   "source": [
    "happiness_dataset['data']"
   ],
   "metadata": {
    "collapsed": false,
    "pycharm": {
     "name": "#%%\n"
    }
   }
  },
  {
   "cell_type": "code",
   "execution_count": 5,
   "outputs": [
    {
     "data": {
      "text/plain": "Region                           category\nHappiness Rank                    float64\nStandard Error                    float64\nEconomy (GDP per Capita)          float64\nFamily                            float64\nHealth (Life Expectancy)          float64\nFreedom                           float64\nTrust (Government Corruption)     float64\nGenerosity                        float64\nDystopia Residual                 float64\ndtype: object"
     },
     "execution_count": 5,
     "metadata": {},
     "output_type": "execute_result"
    }
   ],
   "source": [
    "dataframe: DataFrame = happiness_dataset['data']\n",
    "dataframe.dtypes"
   ],
   "metadata": {
    "collapsed": false,
    "pycharm": {
     "name": "#%%\n"
    }
   }
  },
  {
   "cell_type": "markdown",
   "source": [
    "## Treinamento do modelo"
   ],
   "metadata": {
    "collapsed": false,
    "pycharm": {
     "name": "#%% md\n"
    }
   }
  },
  {
   "cell_type": "code",
   "execution_count": 6,
   "outputs": [],
   "source": [
    "target = dataframe[['Happiness Rank']]"
   ],
   "metadata": {
    "collapsed": false,
    "pycharm": {
     "name": "#%%\n"
    }
   }
  },
  {
   "cell_type": "code",
   "execution_count": 7,
   "outputs": [],
   "source": [
    "from sklearn.metrics import mean_squared_error\n",
    "from sklearn.linear_model import LinearRegression\n",
    "\n",
    "# Remove as colunas de erro, valor esperado e região (string)\n",
    "features = dataframe.drop(columns=['Region', 'Happiness Rank', 'Standard Error'])\n",
    "\n",
    "lr_model = LinearRegression()\n",
    "lr_model.fit(features, target)\n",
    "predict = lr_model.predict(features)"
   ],
   "metadata": {
    "collapsed": false,
    "pycharm": {
     "name": "#%%\n"
    }
   }
  },
  {
   "cell_type": "markdown",
   "source": [
    "### Exibição de métricas"
   ],
   "metadata": {
    "collapsed": false,
    "pycharm": {
     "name": "#%% md\n"
    }
   }
  },
  {
   "cell_type": "code",
   "execution_count": 8,
   "outputs": [
    {
     "name": "stdout",
     "output_type": "stream",
     "text": [
      "MSE: 30.071056142041822\n",
      "Intercept: [291.04796249]\n",
      "Coeficientes: [[-39.37660453 -37.71264434 -45.30300792 -41.54902437 -31.00429306\n",
      "  -33.21811605 -39.14809299]]\n"
     ]
    }
   ],
   "source": [
    "mse = mean_squared_error(target, predict)\n",
    "print('MSE:', mse)\n",
    "\n",
    "intercept_value = lr_model.intercept_\n",
    "print('Intercept:', intercept_value)\n",
    "\n",
    "coefficient = lr_model.coef_\n",
    "print('Coeficientes:', coefficient)"
   ],
   "metadata": {
    "collapsed": false,
    "pycharm": {
     "name": "#%%\n"
    }
   }
  },
  {
   "cell_type": "markdown",
   "source": [
    "## Plot MSE em relação à variação do atributo 'intercept'"
   ],
   "metadata": {
    "collapsed": false,
    "pycharm": {
     "name": "#%% md\n"
    }
   }
  },
  {
   "cell_type": "code",
   "execution_count": 9,
   "outputs": [],
   "source": [
    "from typing import Tuple, List\n",
    "\n",
    "\n",
    "def calc_error(delta=100) -> Tuple[List[float], List[float]]:\n",
    "    _model = LinearRegression()\n",
    "    _model.fit(features, target)\n",
    "\n",
    "    intercept = _model.intercept_\n",
    "    intercept_values = numpy.linspace(intercept - delta, intercept + delta, max(delta, 100))\n",
    "    mse_array = []\n",
    "\n",
    "    for value in intercept_values:\n",
    "        lr_model.intercept_ = value\n",
    "        y_predicted = lr_model.predict(features)\n",
    "        _mse = mean_squared_error(target, y_predicted)\n",
    "        mse_array.append(_mse)\n",
    "\n",
    "    return mse_array, intercept_values"
   ],
   "metadata": {
    "collapsed": false,
    "pycharm": {
     "name": "#%%\n"
    }
   }
  },
  {
   "cell_type": "code",
   "execution_count": 10,
   "outputs": [
    {
     "data": {
      "text/plain": "[<matplotlib.lines.Line2D at 0x2dc205b47c0>]"
     },
     "execution_count": 10,
     "metadata": {},
     "output_type": "execute_result"
    },
    {
     "data": {
      "text/plain": "<Figure size 432x288 with 1 Axes>",
      "image/png": "[encoded data removed]"
     },
     "metadata": {
      "needs_background": "light"
     },
     "output_type": "display_data"
    }
   ],
   "source": [
    "from matplotlib import pyplot\n",
    "import numpy\n",
    "\n",
    "pyplot.ylabel(\"Erro (MSE)\")\n",
    "pyplot.xlabel(\"Intercept\")\n",
    "\n",
    "errors, weights = calc_error(25)\n",
    "pyplot.plot(weights, errors)"
   ],
   "metadata": {
    "collapsed": false,
    "pycharm": {
     "name": "#%%\n"
    }
   }
  }
 ],
 "metadata": {
  "kernelspec": {
   "display_name": "Python 3",
   "language": "python",
   "name": "python3"
  },
  "language_info": {
   "codemirror_mode": {
    "name": "ipython",
    "version": 2
   },
   "file_extension": ".py",
   "mimetype": "text/x-python",
   "name": "python",
   "nbconvert_exporter": "python",
   "pygments_lexer": "ipython2",
   "version": "2.7.6"
  }
 },
 "nbformat": 4,
 "nbformat_minor": 0
}