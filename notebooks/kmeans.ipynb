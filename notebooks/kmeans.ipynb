{
 "cells": [
  {
   "cell_type": "markdown",
   "source": [
    "# KMeans - Iris Dataset"
   ],
   "metadata": {
    "collapsed": false
   }
  },
  {
   "cell_type": "code",
   "execution_count": 1,
   "outputs": [],
   "source": [
    "import random\n",
    "\n",
    "seed = 13\n",
    "max_parallel_jobs = 10\n",
    "random.seed(seed)"
   ],
   "metadata": {
    "collapsed": false
   }
  },
  {
   "cell_type": "markdown",
   "source": [
    "## Carregamento do dataset"
   ],
   "metadata": {
    "collapsed": false
   }
  },
  {
   "cell_type": "code",
   "execution_count": 2,
   "outputs": [],
   "source": [
    "from sklearn.datasets import load_iris\n",
    "\n",
    "dataset = load_iris()\n",
    "X, y = dataset.data[:, 2:4], dataset.target\n",
    "x_complete = dataset.data[:, :]"
   ],
   "metadata": {
    "collapsed": false
   }
  },
  {
   "cell_type": "code",
   "execution_count": 3,
   "outputs": [
    {
     "data": {
      "text/plain": "array([[1.4, 0.2],\n       [1.4, 0.2],\n       [1.3, 0.2],\n       [1.5, 0.2],\n       [1.4, 0.2],\n       [1.7, 0.4],\n       [1.4, 0.3],\n       [1.5, 0.2],\n       [1.4, 0.2],\n       [1.5, 0.1],\n       [1.5, 0.2],\n       [1.6, 0.2],\n       [1.4, 0.1],\n       [1.1, 0.1],\n       [1.2, 0.2],\n       [1.5, 0.4],\n       [1.3, 0.4],\n       [1.4, 0.3],\n       [1.7, 0.3],\n       [1.5, 0.3],\n       [1.7, 0.2],\n       [1.5, 0.4],\n       [1. , 0.2],\n       [1.7, 0.5],\n       [1.9, 0.2],\n       [1.6, 0.2],\n       [1.6, 0.4],\n       [1.5, 0.2],\n       [1.4, 0.2],\n       [1.6, 0.2],\n       [1.6, 0.2],\n       [1.5, 0.4],\n       [1.5, 0.1],\n       [1.4, 0.2],\n       [1.5, 0.2],\n       [1.2, 0.2],\n       [1.3, 0.2],\n       [1.4, 0.1],\n       [1.3, 0.2],\n       [1.5, 0.2],\n       [1.3, 0.3],\n       [1.3, 0.3],\n       [1.3, 0.2],\n       [1.6, 0.6],\n       [1.9, 0.4],\n       [1.4, 0.3],\n       [1.6, 0.2],\n       [1.4, 0.2],\n       [1.5, 0.2],\n       [1.4, 0.2],\n       [4.7, 1.4],\n       [4.5, 1.5],\n       [4.9, 1.5],\n       [4. , 1.3],\n       [4.6, 1.5],\n       [4.5, 1.3],\n       [4.7, 1.6],\n       [3.3, 1. ],\n       [4.6, 1.3],\n       [3.9, 1.4],\n       [3.5, 1. ],\n       [4.2, 1.5],\n       [4. , 1. ],\n       [4.7, 1.4],\n       [3.6, 1.3],\n       [4.4, 1.4],\n       [4.5, 1.5],\n       [4.1, 1. ],\n       [4.5, 1.5],\n       [3.9, 1.1],\n       [4.8, 1.8],\n       [4. , 1.3],\n       [4.9, 1.5],\n       [4.7, 1.2],\n       [4.3, 1.3],\n       [4.4, 1.4],\n       [4.8, 1.4],\n       [5. , 1.7],\n       [4.5, 1.5],\n       [3.5, 1. ],\n       [3.8, 1.1],\n       [3.7, 1. ],\n       [3.9, 1.2],\n       [5.1, 1.6],\n       [4.5, 1.5],\n       [4.5, 1.6],\n       [4.7, 1.5],\n       [4.4, 1.3],\n       [4.1, 1.3],\n       [4. , 1.3],\n       [4.4, 1.2],\n       [4.6, 1.4],\n       [4. , 1.2],\n       [3.3, 1. ],\n       [4.2, 1.3],\n       [4.2, 1.2],\n       [4.2, 1.3],\n       [4.3, 1.3],\n       [3. , 1.1],\n       [4.1, 1.3],\n       [6. , 2.5],\n       [5.1, 1.9],\n       [5.9, 2.1],\n       [5.6, 1.8],\n       [5.8, 2.2],\n       [6.6, 2.1],\n       [4.5, 1.7],\n       [6.3, 1.8],\n       [5.8, 1.8],\n       [6.1, 2.5],\n       [5.1, 2. ],\n       [5.3, 1.9],\n       [5.5, 2.1],\n       [5. , 2. ],\n       [5.1, 2.4],\n       [5.3, 2.3],\n       [5.5, 1.8],\n       [6.7, 2.2],\n       [6.9, 2.3],\n       [5. , 1.5],\n       [5.7, 2.3],\n       [4.9, 2. ],\n       [6.7, 2. ],\n       [4.9, 1.8],\n       [5.7, 2.1],\n       [6. , 1.8],\n       [4.8, 1.8],\n       [4.9, 1.8],\n       [5.6, 2.1],\n       [5.8, 1.6],\n       [6.1, 1.9],\n       [6.4, 2. ],\n       [5.6, 2.2],\n       [5.1, 1.5],\n       [5.6, 1.4],\n       [6.1, 2.3],\n       [5.6, 2.4],\n       [5.5, 1.8],\n       [4.8, 1.8],\n       [5.4, 2.1],\n       [5.6, 2.4],\n       [5.1, 2.3],\n       [5.1, 1.9],\n       [5.9, 2.3],\n       [5.7, 2.5],\n       [5.2, 2.3],\n       [5. , 1.9],\n       [5.2, 2. ],\n       [5.4, 2.3],\n       [5.1, 1.8]])"
     },
     "execution_count": 3,
     "metadata": {},
     "output_type": "execute_result"
    }
   ],
   "source": [
    "X"
   ],
   "metadata": {
    "collapsed": false
   }
  },
  {
   "cell_type": "markdown",
   "source": [
    "## Visualização 2D das features selecionadas"
   ],
   "metadata": {
    "collapsed": false
   }
  },
  {
   "cell_type": "code",
   "execution_count": 4,
   "outputs": [
    {
     "data": {
      "text/plain": "Text(0, 0.5, 'Petal width')"
     },
     "execution_count": 4,
     "metadata": {},
     "output_type": "execute_result"
    },
    {
     "data": {
      "text/plain": "<Figure size 640x480 with 1 Axes>",
      "image/png": "[encoded data removed]"
     },
     "metadata": {},
     "output_type": "display_data"
    }
   ],
   "source": [
    "from matplotlib import pyplot\n",
    "\n",
    "n_distinct_y = len(set(y))\n",
    "\n",
    "for i in range(n_distinct_y):\n",
    "    target_name = dataset.target_names[i]\n",
    "    pyplot.plot(X[y == i, 0], X[y == i, 1], '.', label=target_name)\n",
    "pyplot.xlabel('Petal length')\n",
    "pyplot.ylabel('Petal width')"
   ],
   "metadata": {
    "collapsed": false
   }
  },
  {
   "cell_type": "markdown",
   "source": [
    "## Otimização de parâmetros"
   ],
   "metadata": {
    "collapsed": false
   }
  },
  {
   "cell_type": "code",
   "execution_count": 5,
   "outputs": [
    {
     "data": {
      "text/plain": "(0.49333333333333335,\n {'algorithm': 'lloyd', 'init': 'k-means++', 'n_init': 6},\n 0.6666666666666666)"
     },
     "execution_count": 5,
     "metadata": {},
     "output_type": "execute_result"
    }
   ],
   "source": [
    "from numpy import mean\n",
    "from sklearn.model_selection import cross_val_score\n",
    "from sklearn.model_selection import GridSearchCV\n",
    "from sklearn.cluster import KMeans\n",
    "from sklearn.metrics import accuracy_score\n",
    "\n",
    "# Melhor:\n",
    "# {'algorithm': 'lloyd', 'init': 'k-means++', 'n_init': 21, 'tol': 0.001},\n",
    "# {'algorithm': 'lloyd', 'init': 'k-means++', 'max_iter': 100},\n",
    "# {'algorithm': 'lloyd', 'init': 'k-means++', 'max_iter': 100, 'n_init': 21, 'tol': 0.001},\n",
    "# {'algorithm': 'lloyd', 'init': 'k-means++', 'max_iter': 100, 'n_init': 21, 'tol': 0.001}\n",
    "grid_params = {\n",
    "    'init': ['k-means++', 'random'],\n",
    "    'n_init': list(range(1, 101, 5)),\n",
    "    'max_iter': list(range(100, 1001, 200)),\n",
    "    'tol': [1 / 10 ** i for i in range(1, 11, 2)],\n",
    "    'algorithm': ['lloyd', 'elkan', 'auto', 'full'],\n",
    "}\n",
    "\n",
    "ratio_use = 10\n",
    "start_index = int(len(X) / 100.00 * ratio_use)\n",
    "half_x = X[:start_index]\n",
    "half_y = y[:start_index]\n",
    "\n",
    "\n",
    "def accuracy_scorer(clf, data, target):\n",
    "    return accuracy_score(target, clf.predict(data))\n",
    "\n",
    "kmeans = KMeans(n_clusters=3, random_state=seed)\n",
    "grid_search = GridSearchCV(kmeans, grid_params, n_jobs=max_parallel_jobs, scoring=accuracy_scorer)\n",
    "grid_search.fit(half_x, half_y)\n",
    "cross_val = mean(cross_val_score(grid_search, X, y))\n",
    "cross_val, grid_search.best_params_, grid_search.best_score_"
   ],
   "metadata": {
    "collapsed": false
   }
  },
  {
   "cell_type": "code",
   "execution_count": 10,
   "outputs": [
    {
     "data": {
      "text/plain": "0.24"
     },
     "execution_count": 10,
     "metadata": {},
     "output_type": "execute_result"
    }
   ],
   "source": [
    "from sklearn.cluster import KMeans\n",
    "\n",
    "kmeans_params = {'algorithm': 'lloyd', 'init': 'k-means++', 'max_iter': 100, 'n_init': 6, 'tol': 0.001}\n",
    "kmeans = KMeans(**kmeans_params, n_clusters=3, random_state=seed)\n",
    "kmeans.fit(x_complete[:], y[:])\n",
    "predicted = kmeans.predict(x_complete)\n",
    "accuracy_score(y, predicted)"
   ],
   "metadata": {
    "collapsed": false
   }
  }
 ],
 "metadata": {
  "kernelspec": {
   "display_name": "Python 3",
   "language": "python",
   "name": "python3"
  },
  "language_info": {
   "codemirror_mode": {
    "name": "ipython",
    "version": 2
   },
   "file_extension": ".py",
   "mimetype": "text/x-python",
   "name": "python",
   "nbconvert_exporter": "python",
   "pygments_lexer": "ipython2",
   "version": "2.7.6"
  }
 },
 "nbformat": 4,
 "nbformat_minor": 0
}
