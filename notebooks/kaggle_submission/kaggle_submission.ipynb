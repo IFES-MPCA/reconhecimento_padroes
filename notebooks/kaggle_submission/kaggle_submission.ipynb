{
 "cells": [
  {
   "cell_type": "markdown",
   "source": [
    "# Titanic Disaster - Kaggle Challenge"
   ],
   "metadata": {
    "collapsed": false
   }
  },
  {
   "cell_type": "markdown",
   "source": [
    "## Carregar dados"
   ],
   "metadata": {
    "collapsed": false
   }
  },
  {
   "cell_type": "code",
   "execution_count": 1,
   "metadata": {
    "collapsed": true
   },
   "outputs": [],
   "source": [
    "import random\n",
    "\n",
    "import pandas\n",
    "\n",
    "seed = 42\n",
    "random.seed(seed)\n",
    "\n",
    "train = pandas.read_csv('./train.csv')\n",
    "test = pandas.read_csv('./test.csv')\n",
    "test_ids = test['PassengerId']\n",
    "\n",
    "train_x = train\n",
    "train_y = train['Survived']"
   ]
  },
  {
   "cell_type": "markdown",
   "source": [
    "## Limpar e transformar os dados"
   ],
   "metadata": {
    "collapsed": false
   }
  },
  {
   "cell_type": "markdown",
   "source": [
    "### Definir utilitários para selecionar features por tipo"
   ],
   "metadata": {
    "collapsed": false
   }
  },
  {
   "cell_type": "code",
   "execution_count": 2,
   "outputs": [],
   "source": [
    "from pandas import DataFrame\n",
    "from sklearn.base import BaseEstimator, TransformerMixin\n",
    "\n",
    "\n",
    "class FilterAttributes(BaseEstimator, TransformerMixin):\n",
    "    def __init__(self):\n",
    "        self.columns_to_remove = None\n",
    "\n",
    "    def fit(self, x: DataFrame, y: DataFrame = None):\n",
    "        self.columns_to_remove = ['PassengerId', 'Cabin', 'Ticket', 'Name', 'Survived']\n",
    "        return self\n",
    "\n",
    "    def transform(self, x: DataFrame, y: DataFrame = None):\n",
    "        return x.drop(self.columns_to_remove, axis=1, errors='ignore')\n"
   ],
   "metadata": {
    "collapsed": false
   }
  },
  {
   "cell_type": "code",
   "execution_count": 3,
   "outputs": [],
   "source": [
    "from abc import ABC, abstractmethod\n",
    "\n",
    "\n",
    "class SelectAttributes(BaseEstimator, TransformerMixin, ABC):\n",
    "    @abstractmethod\n",
    "    def __init__(self, attr_type: str):\n",
    "        self.selected_columns: DataFrame = None\n",
    "        self.selected_type = attr_type\n",
    "\n",
    "    def fit(self, x: DataFrame, y: DataFrame = None):\n",
    "        self.selected_columns = x.select_dtypes(include=self.selected_type).columns\n",
    "        return self\n",
    "\n",
    "    def transform(self, x: DataFrame, y: DataFrame = None):\n",
    "        return x[self.selected_columns]"
   ],
   "metadata": {
    "collapsed": false
   }
  },
  {
   "cell_type": "code",
   "execution_count": 4,
   "outputs": [],
   "source": [
    "class NumericAttributes(SelectAttributes):\n",
    "    def __init__(self):\n",
    "        super().__init__('number')\n",
    "\n",
    "\n",
    "class CategoricalAttributes(SelectAttributes):\n",
    "    def __init__(self):\n",
    "        super().__init__('object')"
   ],
   "metadata": {
    "collapsed": false
   }
  },
  {
   "cell_type": "code",
   "execution_count": 5,
   "outputs": [],
   "source": [
    "from scipy.sparse import spmatrix\n",
    "\n",
    "\n",
    "class DenseTransformer(TransformerMixin):\n",
    "\n",
    "    def fit(self, x, y=None, **fit_params):\n",
    "        return self\n",
    "\n",
    "    def transform(self, x: spmatrix, y=None, **fit_params):\n",
    "        return x.todense()"
   ],
   "metadata": {
    "collapsed": false
   }
  },
  {
   "cell_type": "markdown",
   "source": [
    "### Definir de pipelines para extração, imputation e unificação de features"
   ],
   "metadata": {
    "collapsed": false
   }
  },
  {
   "cell_type": "code",
   "execution_count": 6,
   "outputs": [],
   "source": [
    "from sklearn.preprocessing import OneHotEncoder, StandardScaler\n",
    "from sklearn.impute import SimpleImputer\n",
    "from sklearn.pipeline import Pipeline, FeatureUnion\n",
    "\n",
    "pipe_extract_number = Pipeline([\n",
    "    ('attr_number', NumericAttributes()),\n",
    "    ('imputer', SimpleImputer(strategy='median')),\n",
    "    ('scaler', StandardScaler()),\n",
    "])\n",
    "\n",
    "pipe_extract_categorical = Pipeline([\n",
    "    ('attr_categorical', CategoricalAttributes()),\n",
    "    ('imputer', SimpleImputer(strategy='most_frequent')),\n",
    "    ('encoder', OneHotEncoder())\n",
    "])\n",
    "\n",
    "pipe_features_unify = FeatureUnion([\n",
    "    ('join_number', pipe_extract_number),\n",
    "    ('join_categorical', pipe_extract_categorical),\n",
    "])\n",
    "\n",
    "pipe_preprocessing = Pipeline([\n",
    "    ('selected_attributes', FilterAttributes()),\n",
    "    ('join_features', pipe_features_unify)\n",
    "])"
   ],
   "metadata": {
    "collapsed": false
   }
  },
  {
   "cell_type": "code",
   "execution_count": 7,
   "outputs": [],
   "source": [
    "from sklearn.tree import DecisionTreeClassifier\n",
    "\n",
    "build_final_pipe = lambda classifier: Pipeline([\n",
    "    ('preprocessing', pipe_preprocessing),\n",
    "    ('to_dense', DenseTransformer()),\n",
    "    ('classifier', classifier),\n",
    "])"
   ],
   "metadata": {
    "collapsed": false
   }
  },
  {
   "cell_type": "code",
   "execution_count": 8,
   "outputs": [],
   "source": [
    "import warnings\n",
    "\n",
    "warnings.filterwarnings('ignore')"
   ],
   "metadata": {
    "collapsed": false
   }
  },
  {
   "cell_type": "markdown",
   "source": [
    "### Descobrir melhor combinação de parâmetros para o classificador árvore de decisão"
   ],
   "metadata": {
    "collapsed": false
   }
  },
  {
   "cell_type": "code",
   "execution_count": 9,
   "outputs": [],
   "source": [
    "\n",
    "from sklearn.model_selection import GridSearchCV\n",
    "\n",
    "# Melhor: ({'max_depth': 7, 'max_leaf_nodes': 16, 'min_samples_leaf': 6}, 0.8305442219571905)\n",
    "grid_params = {\n",
    "    'tree__max_depth': [None] + list(range(1, 20, 2)),\n",
    "    'tree__min_samples_leaf': [None] + list(range(1, 50, 5)),\n",
    "    'tree__max_leaf_nodes': [None] + list(range(1, 50, 5)),\n",
    "}\n",
    "\n",
    "pipe_tree = build_final_pipe(DecisionTreeClassifier())\n",
    "\n",
    "# 12 (número de threads da máquina) execuções em paralelos para acelerar as centenas de testes\n",
    "grid_model = GridSearchCV(pipe_tree, param_grid=grid_params, n_jobs=12)\n",
    "# grid_model.fit(train_x, train_y)\n",
    "# cross_val_score = mean(cross_val_score(grid_model, train_x, train_y))\n",
    "# cross_val_score, grid_model.best_params_, grid_model.best_score_"
   ],
   "metadata": {
    "collapsed": false
   }
  },
  {
   "cell_type": "markdown",
   "source": [
    "### Descobrir melhor combinação de parâmetros para o classificador KNN"
   ],
   "metadata": {
    "collapsed": false
   }
  },
  {
   "cell_type": "code",
   "execution_count": 10,
   "outputs": [],
   "source": [
    "from sklearn.neighbors import KNeighborsClassifier\n",
    "\n",
    "# Melhor: ({'algorithm': 'auto', 'metric': 'minkowski', 'n_neighbors': 11, 'p': 1, 'weights': 'uniform'}, 0.815956311593748)\n",
    "grid_params = {\n",
    "    'classifier__n_neighbors': list(range(1, 30, 2)),\n",
    "    'classifier__p': [None, 1, 2],\n",
    "    'classifier__weights': ['uniform', 'distance'],\n",
    "    'classifier__algorithm': ['auto', 'ball_tree', 'kd_tree', 'brute'],\n",
    "    'classifier__metric': ['minkowski', 'precomputed'],\n",
    "}\n",
    "\n",
    "pipe_knn = build_final_pipe(KNeighborsClassifier())\n",
    "\n",
    "# 12 (número de threads da máquina) execuções em paralelos para acelerar as centenas de testes\n",
    "grid_model = GridSearchCV(pipe_knn, param_grid=grid_params, n_jobs=12)\n",
    "# grid_model.fit(train_x, train_y)\n",
    "# cross_val_score = mean(cross_val_score(grid_model, train_x, train_y))\n",
    "# cross_val_score, grid_model.best_params_, grid_model.best_score_"
   ],
   "metadata": {
    "collapsed": false
   }
  },
  {
   "cell_type": "markdown",
   "source": [],
   "metadata": {
    "collapsed": false
   }
  },
  {
   "cell_type": "markdown",
   "source": [
    "### Executar validação cruzada"
   ],
   "metadata": {
    "collapsed": false
   }
  },
  {
   "cell_type": "code",
   "execution_count": 11,
   "outputs": [
    {
     "data": {
      "text/plain": "0.8238152030632101"
     },
     "execution_count": 11,
     "metadata": {},
     "output_type": "execute_result"
    }
   ],
   "source": [
    "from numpy import mean\n",
    "from sklearn.naive_bayes import GaussianNB\n",
    "from sklearn.neighbors import KNeighborsClassifier\n",
    "from sklearn.ensemble import VotingClassifier\n",
    "from sklearn.model_selection import cross_val_score\n",
    "\n",
    "voting_classifier = VotingClassifier([\n",
    "    ('knn', KNeighborsClassifier(algorithm='auto', n_neighbors=11, p=1, weights='uniform')),\n",
    "    ('naive_bayes', GaussianNB()),\n",
    "    ('decision_tree', DecisionTreeClassifier(max_depth=7, max_leaf_nodes=16, min_samples_leaf=6, random_state=seed))\n",
    "])\n",
    "final_pipe = build_final_pipe(voting_classifier)\n",
    "cross_val_score = mean(cross_val_score(final_pipe, train_x, train_y))\n",
    "cross_val_score"
   ],
   "metadata": {
    "collapsed": false
   }
  },
  {
   "cell_type": "markdown",
   "source": [
    "### Executar na base de teste\n"
   ],
   "metadata": {
    "collapsed": false
   }
  },
  {
   "cell_type": "code",
   "execution_count": 15,
   "outputs": [],
   "source": [
    "voting_classifier = VotingClassifier([\n",
    "    ('knn', KNeighborsClassifier(algorithm='auto', n_neighbors=11, p=1, weights='uniform')),\n",
    "    ('naive_bayes', GaussianNB()),\n",
    "    ('decision_tree', DecisionTreeClassifier(max_depth=7, max_leaf_nodes=16, min_samples_leaf=6, random_state=seed))\n",
    "])\n",
    "final_pipe = build_final_pipe(voting_classifier)\n",
    "final_pipe.fit_transform(train_x, train_y)\n",
    "submission_prediction = final_pipe.predict(test)\n",
    "\n",
    "results_dataframe = pandas.DataFrame({'PassengerId': test_ids, 'Survived': submission_prediction})\n",
    "results_dataframe.to_csv('submission.csv', index=False)"
   ],
   "metadata": {
    "collapsed": false
   }
  }
 ],
 "metadata": {
  "kernelspec": {
   "display_name": "Python 3",
   "language": "python",
   "name": "python3"
  },
  "language_info": {
   "codemirror_mode": {
    "name": "ipython",
    "version": 2
   },
   "file_extension": ".py",
   "mimetype": "text/x-python",
   "name": "python",
   "nbconvert_exporter": "python",
   "pygments_lexer": "ipython2",
   "version": "2.7.6"
  }
 },
 "nbformat": 4,
 "nbformat_minor": 0
}
