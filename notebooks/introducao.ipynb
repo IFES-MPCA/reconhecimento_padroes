{
 "nbformat": 4,
 "nbformat_minor": 0,
 "metadata": {
  "colab": {
   "name": "RP - Aprendizado de máquina.ipynb",
   "provenance": [],
   "collapsed_sections": []
  },
  "kernelspec": {
   "name": "python3",
   "display_name": "Python 3"
  },
  "language_info": {
   "name": "python"
  }
 },
 "cells": [
  {
   "cell_type": "markdown",
   "source": [
    "# [Slides](https://docs.google.com/presentation/d/1O6EeeWlgJAZ-PAJkwOCTG8wYc6XOqegc2OiZEeiq51s/edit#slide=id.ga51f362f95_0_58)"
   ],
   "metadata": {
    "id": "9_h2gtvOysZ9",
    "pycharm": {
     "name": "#%% md\n"
    }
   }
  },
  {
   "cell_type": "markdown",
   "source": [
    "# Exemplo de regressão"
   ],
   "metadata": {
    "id": "c7Q75UnuxBlF",
    "pycharm": {
     "name": "#%% md\n"
    }
   }
  },
  {
   "cell_type": "code",
   "execution_count": null,
   "metadata": {
    "colab": {
     "base_uri": "https://localhost:8080/",
     "height": 265
    },
    "id": "5FCM1h5IvHr_",
    "outputId": "b76ecc58-f309-4769-9c52-36293e075403",
    "pycharm": {
     "name": "#%%\n"
    }
   },
   "outputs": [],
   "source": [
    "# Usado para suprimir o warning do uso depreciado do \"load_boston\"\n",
    "import warnings\n",
    "warnings.filterwarnings(\"ignore\")\n",
    "\n",
    "import matplotlib.pyplot as plt\n",
    "from sklearn.datasets import load_boston\n",
    "X, y = load_boston(return_X_y=True)\n",
    "plt.scatter(X[:, 12], y)\n",
    "plt.show()"
   ]
  },
  {
   "cell_type": "markdown",
   "source": [
    "# Exemplo de classificação (clusterização)"
   ],
   "metadata": {
    "id": "PbsGl6srxVcM",
    "pycharm": {
     "name": "#%% md\n"
    }
   }
  },
  {
   "cell_type": "code",
   "source": [
    "import matplotlib.pyplot as plt\n",
    "from sklearn.datasets import load_breast_cancer\n",
    "\n",
    "X, y = load_breast_cancer(return_X_y=True)\n",
    "plt.plot(X[:, 20][y==1], X[:, 27][y==1], \"gs\")\n",
    "plt.plot(X[:, 20][y==0], X[:, 27][y==0], \"ro\")\n",
    "plt.show()"
   ],
   "metadata": {
    "colab": {
     "base_uri": "https://localhost:8080/",
     "height": 266
    },
    "id": "3swri2n0wpr1",
    "outputId": "1a81f23e-d060-405d-edb0-e17e7574a571",
    "pycharm": {
     "name": "#%%\n"
    }
   },
   "execution_count": null,
   "outputs": []
  },
  {
   "cell_type": "markdown",
   "source": [
    "# Exemplo de aprendizado não supervisionado (clusterização)"
   ],
   "metadata": {
    "id": "PHYVa-HuxsKs",
    "pycharm": {
     "name": "#%% md\n"
    }
   }
  },
  {
   "cell_type": "code",
   "source": [
    "import matplotlib.pyplot as plt\n",
    "from sklearn.datasets import load_iris\n",
    "X, y = load_iris(return_X_y=True)\n",
    "plt.plot(X[:, 0], X[:, 1], \"o\")\n",
    "plt.show()"
   ],
   "metadata": {
    "colab": {
     "base_uri": "https://localhost:8080/",
     "height": 268
    },
    "id": "tmzVVAWXxswN",
    "outputId": "9adc2145-795e-4ccb-a123-aff19b658cb0",
    "pycharm": {
     "name": "#%%\n"
    }
   },
   "execution_count": null,
   "outputs": []
  }
 ]
}