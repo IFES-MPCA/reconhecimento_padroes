{
 "cells": [
  {
   "cell_type": "markdown",
   "source": [
    "# Classificação - Spambase\n",
    "\n",
    "[Dataset (OpenML)](https://www.openml.org/search?type=data&sort=runs&status=active&qualities.NumberOfClasses=%3D_2&id=44)"
   ],
   "metadata": {
    "collapsed": false,
    "pycharm": {
     "name": "#%% md\n"
    }
   }
  },
  {
   "cell_type": "markdown",
   "source": [
    "## Carregamento do dataset"
   ],
   "metadata": {
    "collapsed": false,
    "pycharm": {
     "name": "#%% md\n"
    }
   }
  },
  {
   "cell_type": "code",
   "execution_count": 2,
   "outputs": [],
   "source": [
    "from sklearn.datasets import fetch_openml\n",
    "\n",
    "dataset = fetch_openml(data_id=44)"
   ],
   "metadata": {
    "collapsed": false,
    "pycharm": {
     "name": "#%%\n"
    }
   }
  },
  {
   "cell_type": "markdown",
   "source": [
    "## Metadados do dataset"
   ],
   "metadata": {
    "collapsed": false,
    "pycharm": {
     "name": "#%% md\n"
    }
   }
  },
  {
   "cell_type": "code",
   "execution_count": 3,
   "outputs": [
    {
     "data": {
      "text/plain": "dict_keys(['data', 'target', 'frame', 'categories', 'feature_names', 'target_names', 'DESCR', 'details', 'url'])"
     },
     "execution_count": 3,
     "metadata": {},
     "output_type": "execute_result"
    }
   ],
   "source": [
    "dataset.keys()"
   ],
   "metadata": {
    "collapsed": false,
    "pycharm": {
     "name": "#%%\n"
    }
   }
  },
  {
   "cell_type": "code",
   "execution_count": 4,
   "outputs": [
    {
     "data": {
      "text/plain": "((4601, 57), (4601,))"
     },
     "execution_count": 4,
     "metadata": {},
     "output_type": "execute_result"
    }
   ],
   "source": [
    "from pandas import DataFrame, Series\n",
    "\n",
    "features: DataFrame = dataset['data']\n",
    "target: Series = dataset['target']\n",
    "\n",
    "features.shape, target.shape"
   ],
   "metadata": {
    "collapsed": false,
    "pycharm": {
     "name": "#%%\n"
    }
   }
  },
  {
   "cell_type": "code",
   "execution_count": 5,
   "outputs": [],
   "source": [
    "X, y = dataset.data, dataset.target"
   ],
   "metadata": {
    "collapsed": false,
    "pycharm": {
     "name": "#%%\n"
    }
   }
  },
  {
   "cell_type": "code",
   "execution_count": 6,
   "outputs": [
    {
     "data": {
      "text/plain": "0       1\n1       1\n2       1\n3       1\n4       1\n       ..\n4596    0\n4597    0\n4598    0\n4599    0\n4600    0\nName: class, Length: 4601, dtype: category\nCategories (2, object): ['0', '1']"
     },
     "execution_count": 6,
     "metadata": {},
     "output_type": "execute_result"
    }
   ],
   "source": [
    "target"
   ],
   "metadata": {
    "collapsed": false,
    "pycharm": {
     "name": "#%%\n"
    }
   }
  },
  {
   "cell_type": "markdown",
   "source": [
    "## Treinamento do modelo"
   ],
   "metadata": {
    "collapsed": false,
    "pycharm": {
     "name": "#%% md\n"
    }
   }
  },
  {
   "cell_type": "code",
   "execution_count": 7,
   "outputs": [],
   "source": [
    "from sklearn.linear_model import LogisticRegression\n",
    "\n",
    "# Seleciona apenas features numéricas\n",
    "features = features.select_dtypes(include=['number'])\n",
    "\n",
    "model = LogisticRegression(max_iter=1500)\n",
    "model.fit(features, target)\n",
    "predicted = model.predict(features)"
   ],
   "metadata": {
    "collapsed": false,
    "pycharm": {
     "name": "#%%\n"
    }
   }
  },
  {
   "cell_type": "markdown",
   "source": [
    "## Visualização dos resultados"
   ],
   "metadata": {
    "collapsed": false,
    "pycharm": {
     "name": "#%% md\n"
    }
   }
  },
  {
   "cell_type": "markdown",
   "source": [
    "### Exibição de métricas"
   ],
   "metadata": {
    "collapsed": false,
    "pycharm": {
     "name": "#%% md\n"
    }
   }
  },
  {
   "cell_type": "code",
   "execution_count": 8,
   "outputs": [
    {
     "name": "stdout",
     "output_type": "stream",
     "text": [
      "Accuracy: 0.9313192784177353\n",
      "Intercept: [-1.47574469]\n",
      "Coeficientes: [[-3.25579436e-01 -1.54257764e-01  1.29800751e-01  8.64860131e-01\n",
      "   5.58080709e-01  7.60853619e-01  2.12810867e+00  5.81661808e-01\n",
      "   6.59437189e-01  1.22871784e-01 -2.16837668e-01 -1.51307844e-01\n",
      "  -6.70514822e-02  1.51841218e-01  9.65811763e-01  1.03149537e+00\n",
      "   9.26661691e-01  1.25693178e-01  7.75343717e-02  9.74094429e-01\n",
      "   2.51696846e-01  2.71105909e-01  2.16082664e+00  5.46432974e-01\n",
      "  -1.76475603e+00 -1.01228828e+00 -3.79605447e+00  4.08828180e-01\n",
      "  -1.35786476e+00 -3.45158731e-01 -4.50573855e-01 -5.01123565e-02\n",
      "  -8.36529122e-01 -4.78595518e-02 -1.20585627e+00  7.92425562e-01\n",
      "  -9.83737668e-03 -4.93165890e-01 -7.63610970e-01 -3.35523003e-01\n",
      "  -1.50243526e+00 -1.89685392e+00 -8.37339939e-01 -1.40899780e+00\n",
      "  -6.81386862e-01 -1.42180577e+00 -9.46888051e-01 -1.63982051e+00\n",
      "  -1.13040172e+00 -1.35445741e-01 -4.92637386e-01  3.83774987e-01\n",
      "   3.97058482e+00  1.23304774e+00 -1.30082823e-02  8.29865881e-03\n",
      "   5.39037106e-04]]\n"
     ]
    }
   ],
   "source": [
    "from sklearn.metrics import accuracy_score\n",
    "\n",
    "accuracy = accuracy_score(target, predicted)\n",
    "print('Accuracy:', accuracy)\n",
    "\n",
    "intercept_value = model.intercept_\n",
    "print('Intercept:', intercept_value)\n",
    "\n",
    "coefficient = model.coef_\n",
    "print('Coeficientes:', coefficient)"
   ],
   "metadata": {
    "collapsed": false,
    "pycharm": {
     "name": "#%%\n"
    }
   }
  },
  {
   "cell_type": "markdown",
   "source": [
    "## Plot MSE em relação à variação do atributo 'intercept'"
   ],
   "metadata": {
    "collapsed": false,
    "pycharm": {
     "name": "#%% md\n"
    }
   }
  },
  {
   "cell_type": "code",
   "execution_count": 9,
   "outputs": [],
   "source": [
    "\n",
    "from typing import Tuple, List\n",
    "\n",
    "\n",
    "def calc_error(delta=100) -> Tuple[List[float], List[float]]:\n",
    "    _model = LogisticRegression(max_iter=500)\n",
    "    _model.fit(features, target)\n",
    "\n",
    "    intercept = _model.intercept_\n",
    "    intercept_values = numpy.linspace(intercept - delta, intercept + delta, max(delta, 1000))\n",
    "    mse_array = []\n",
    "\n",
    "    for value in intercept_values:\n",
    "        model.intercept_ = value\n",
    "        y_predicted = model.predict(features)\n",
    "        _score = accuracy_score(target, y_predicted)\n",
    "        mse_array.append(_score)\n",
    "\n",
    "    return mse_array, intercept_values"
   ],
   "metadata": {
    "collapsed": false,
    "pycharm": {
     "name": "#%%\n"
    }
   }
  },
  {
   "cell_type": "code",
   "execution_count": 13,
   "outputs": [
    {
     "data": {
      "text/plain": "<Figure size 432x288 with 1 Axes>",
      "image/png": "[encoded data removed]"
     },
     "metadata": {
      "needs_background": "light"
     },
     "output_type": "display_data"
    }
   ],
   "source": [
    "from time import sleep\n",
    "from sklearn.preprocessing import LabelEncoder\n",
    "from sklearn.metrics import mean_squared_error\n",
    "import matplotlib.pyplot as plt\n",
    "import numpy\n",
    "\n",
    "delta = [\n",
    "    0.125, 0.1, 0.02, 0.005, 25, 25, 50, 50, 20, 50, 10, 4, 1, 0.05, 600, 200, 100, 200, 200, 1000, 0.1, 0.1, 0.02,\n",
    "    0.002, 25, 10, 10, 15, 10, 30, 1\n",
    "]\n",
    "\n",
    "\n",
    "def plot(i):\n",
    "    erros = []\n",
    "    coef = model.coef_[i]\n",
    "    ws = numpy.linspace(coef - delta[i], coef + delta[i], 101)\n",
    "    for w in ws:\n",
    "        model.coef_[i] = w\n",
    "        ypred = model.predict(features)\n",
    "        erro = mean_squared_error(y, ypred)\n",
    "        erros.append(erro)\n",
    "    model.coef_[i] = coef\n",
    "    plt.ylabel(\"Erro\")\n",
    "    plt.xlabel(f\"W[{i}]\")\n",
    "    plt.plot(ws, erros)\n",
    "    plt.show()\n",
    "\n",
    "\n",
    "for i in range(len(model.coef_)):\n",
    "    plot(i)\n"
   ],
   "metadata": {
    "collapsed": false,
    "pycharm": {
     "name": "#%%\n"
    }
   }
  }
 ],
 "metadata": {
  "kernelspec": {
   "display_name": "Python 3",
   "language": "python",
   "name": "python3"
  },
  "language_info": {
   "codemirror_mode": {
    "name": "ipython",
    "version": 2
   },
   "file_extension": ".py",
   "mimetype": "text/x-python",
   "name": "python",
   "nbconvert_exporter": "python",
   "pygments_lexer": "ipython2",
   "version": "2.7.6"
  }
 },
 "nbformat": 4,
 "nbformat_minor": 0
}