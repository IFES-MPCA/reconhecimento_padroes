{
 "cells": [
  {
   "cell_type": "markdown",
   "source": [
    "# Comparação de ensembles - Dataset: Spambase\n",
    "\n",
    "[Dataset (OpenML)](https://www.openml.org/search?type=data&sort=runs&status=active&qualities.NumberOfClasses=%3D_2&id=44)\n",
    "\n",
    "O dataset é de **classificação binária**, portanto conta com somente **um valor de intercept** e o número de valores de **coef** é igual ao número de features. Essa informação foi retirada da [documentação do scikit-learn](https://scikit-learn.org/stable/modules/generated/sklearn.linear_model.LogisticRegression.html) da classe LogisticRegression.\n",
    "\n"
   ],
   "metadata": {
    "collapsed": false
   }
  },
  {
   "cell_type": "markdown",
   "source": [
    "## Carregamento do dataset"
   ],
   "metadata": {
    "collapsed": false
   }
  },
  {
   "cell_type": "code",
   "execution_count": 1,
   "outputs": [],
   "source": [
    "from sklearn.datasets import fetch_openml\n",
    "\n",
    "dataset = fetch_openml(data_id=44)"
   ],
   "metadata": {
    "collapsed": false
   }
  },
  {
   "cell_type": "markdown",
   "source": [
    "## Metadados do dataset"
   ],
   "metadata": {
    "collapsed": false
   }
  },
  {
   "cell_type": "code",
   "execution_count": 2,
   "outputs": [
    {
     "data": {
      "text/plain": "dict_keys(['data', 'target', 'frame', 'categories', 'feature_names', 'target_names', 'DESCR', 'details', 'url'])"
     },
     "execution_count": 2,
     "metadata": {},
     "output_type": "execute_result"
    }
   ],
   "source": [
    "dataset.keys()"
   ],
   "metadata": {
    "collapsed": false
   }
  },
  {
   "cell_type": "code",
   "execution_count": 3,
   "outputs": [
    {
     "data": {
      "text/plain": "((4601, 57), (4601,))"
     },
     "execution_count": 3,
     "metadata": {},
     "output_type": "execute_result"
    }
   ],
   "source": [
    "from pandas import DataFrame, Series\n",
    "\n",
    "features: DataFrame = dataset['data']\n",
    "target: Series = dataset['target']\n",
    "features.shape, target.shape"
   ],
   "metadata": {
    "collapsed": false
   }
  },
  {
   "cell_type": "code",
   "execution_count": 4,
   "outputs": [],
   "source": [
    "import pandas\n",
    "\n",
    "X, y = dataset.data, pandas.to_numeric(dataset.target)"
   ],
   "metadata": {
    "collapsed": false
   }
  },
  {
   "cell_type": "markdown",
   "source": [
    "## Configurar seed e número de jobs em paralelo"
   ],
   "metadata": {
    "collapsed": false
   }
  },
  {
   "cell_type": "code",
   "execution_count": 5,
   "outputs": [],
   "source": [
    "import random\n",
    "\n",
    "seed = 42\n",
    "max_parallel_jobs = 10\n",
    "random.seed(seed)\n",
    "run_grid_search = True"
   ],
   "metadata": {
    "collapsed": false
   }
  },
  {
   "cell_type": "markdown",
   "source": [
    "## Otimizar classificadores"
   ],
   "metadata": {
    "collapsed": false
   }
  },
  {
   "cell_type": "markdown",
   "source": [
    "Para evitar uma **explosão de combinações** de parâmetros por combinar os classificadores e ter que esperar horas para otimização de parâmetros, optei por usar o grid search para encontrar a melhor configuração para **cada classificador isolado** e por fim unificar a melhor configuração de cada na construção do ensemble."
   ],
   "metadata": {
    "collapsed": false
   }
  },
  {
   "cell_type": "code",
   "execution_count": 6,
   "outputs": [],
   "source": [
    "import warnings\n",
    "\n",
    "warnings.filterwarnings('ignore')"
   ],
   "metadata": {
    "collapsed": false
   }
  },
  {
   "cell_type": "markdown",
   "source": [
    "### Decision Tree"
   ],
   "metadata": {
    "collapsed": false
   }
  },
  {
   "cell_type": "code",
   "execution_count": 7,
   "outputs": [
    {
     "name": "stdout",
     "output_type": "stream",
     "text": [
      "0.8969721002690838 {'max_depth': 7, 'max_leaf_nodes': 21, 'min_samples_leaf': 11} 0.903497379974508\n"
     ]
    }
   ],
   "source": [
    "from sklearn.tree import DecisionTreeClassifier\n",
    "from numpy import mean\n",
    "from sklearn.model_selection import cross_val_score\n",
    "from sklearn.model_selection import GridSearchCV\n",
    "\n",
    "# Melhor: {'max_depth': 7, 'max_leaf_nodes': 21, 'min_samples_leaf': 11} 0.903497379974508\n",
    "grid_params = {\n",
    "    'max_depth': list(range(1, 20, 2)),\n",
    "    'min_samples_leaf': list(range(1, 50, 5)),\n",
    "    'max_leaf_nodes': list(range(1, 50, 5)),\n",
    "}\n",
    "\n",
    "if run_grid_search:\n",
    "    tree_classifier = DecisionTreeClassifier(random_state=seed)\n",
    "    grid_search = GridSearchCV(tree_classifier, param_grid=grid_params, n_jobs=max_parallel_jobs)\n",
    "    grid_search.fit(X, y)\n",
    "    cross_val = mean(cross_val_score(grid_search, X, y))\n",
    "    print(cross_val, grid_search.best_params_, grid_search.best_score_)"
   ],
   "metadata": {
    "collapsed": false
   }
  },
  {
   "cell_type": "markdown",
   "source": [
    "### KNN"
   ],
   "metadata": {
    "collapsed": false
   }
  },
  {
   "cell_type": "code",
   "execution_count": 8,
   "outputs": [
    {
     "name": "stdout",
     "output_type": "stream",
     "text": [
      "0.8115670584902988 {'algorithm': 'auto', 'metric': 'minkowski', 'n_neighbors': 11, 'p': 1, 'weights': 'distance'} 0.8189581267997923\n"
     ]
    }
   ],
   "source": [
    "from sklearn.neighbors import KNeighborsClassifier\n",
    "\n",
    "# Melhor: {'algorithm': 'auto', 'metric': 'minkowski', 'n_neighbors': 11, 'p': 1, 'weights': 'distance'} 0.8189581267997923\n",
    "grid_params = {\n",
    "    'n_neighbors': list(range(1, 30, 2)),\n",
    "    'p': [None, 1, 2],\n",
    "    'weights': ['uniform', 'distance'],\n",
    "    'algorithm': ['auto', 'ball_tree', 'kd_tree', 'brute'],\n",
    "    'metric': ['minkowski'],\n",
    "}\n",
    "\n",
    "if run_grid_search:\n",
    "    knn = KNeighborsClassifier()\n",
    "    grid_search = GridSearchCV(knn, param_grid=grid_params, n_jobs=max_parallel_jobs)\n",
    "    grid_search.fit(X, y)\n",
    "    cross_val = mean(cross_val_score(grid_search, X, y))\n",
    "    print(cross_val, grid_search.best_params_, grid_search.best_score_)"
   ],
   "metadata": {
    "collapsed": false
   }
  },
  {
   "cell_type": "markdown",
   "source": [
    "### Logistic Regression"
   ],
   "metadata": {
    "collapsed": false
   }
  },
  {
   "cell_type": "code",
   "execution_count": 9,
   "outputs": [
    {
     "name": "stdout",
     "output_type": "stream",
     "text": [
      "0.9150179389132795 {'max_iter': 100, 'penalty': 'l1', 'solver': 'liblinear', 'tol': 0.1} 0.9141486097342207\n"
     ]
    }
   ],
   "source": [
    "from sklearn.linear_model import LogisticRegression\n",
    "\n",
    "# Melhor: {'max_iter': 100, 'penalty': 'l1', 'solver': 'liblinear', 'tol': 0.1} 0.9141486097342207\n",
    "grid_params = {\n",
    "    'penalty': ['l1', 'l2', 'elasticnet', 'none'],\n",
    "    'tol': [1 / 10 ** i for i in range(1, 11, 2)],\n",
    "    'solver': ['newton-cg', 'lbfgs', 'liblinear', 'sag', 'saga'],\n",
    "    'max_iter': [i for i in range(100, 751, 200)],\n",
    "}\n",
    "\n",
    "if run_grid_search:\n",
    "    logistic_regression = LogisticRegression(random_state=seed)\n",
    "    grid_search = GridSearchCV(logistic_regression, param_grid=grid_params, n_jobs=max_parallel_jobs)\n",
    "    grid_search.fit(X, y)\n",
    "    cross_val = mean(cross_val_score(grid_search, X, y))\n",
    "    print(cross_val, grid_search.best_params_, grid_search.best_score_)"
   ],
   "metadata": {
    "collapsed": false
   }
  },
  {
   "cell_type": "markdown",
   "source": [
    "### Base ensembles"
   ],
   "metadata": {
    "collapsed": false
   }
  },
  {
   "cell_type": "code",
   "execution_count": 10,
   "outputs": [],
   "source": [
    "from sklearn.linear_model import Perceptron\n",
    "from sklearn.naive_bayes import GaussianNB\n",
    "\n",
    "tree_args = {'max_depth': 7, 'max_leaf_nodes': 21, 'min_samples_leaf': 11}\n",
    "knn_args = {'algorithm': 'auto', 'metric': 'minkowski', 'n_neighbors': 11, 'p': 1, 'weights': 'distance'}\n",
    "logistic_args = {'max_iter': 100, 'penalty': 'l1', 'solver': 'liblinear', 'tol': 0.1}\n",
    "\n",
    "classifiers = [\n",
    "    ('knn', KNeighborsClassifier(**knn_args)),\n",
    "    ('naive_bayes', GaussianNB()),\n",
    "    ('perceptron', Perceptron()),\n",
    "    ('logistic', LogisticRegression(**logistic_args, random_state=seed)),\n",
    "    ('decision', DecisionTreeClassifier(**tree_args, random_state=seed)),\n",
    "]"
   ],
   "metadata": {
    "collapsed": false
   }
  },
  {
   "cell_type": "markdown",
   "source": [
    "### Voting classifier"
   ],
   "metadata": {
    "collapsed": false
   }
  },
  {
   "cell_type": "code",
   "execution_count": 11,
   "outputs": [
    {
     "name": "stdout",
     "output_type": "stream",
     "text": [
      "0.9178430817164707 {'voting': 'hard'} 0.9178430817164707\n"
     ]
    }
   ],
   "source": [
    "from sklearn.ensemble import VotingClassifier\n",
    "\n",
    "grid_params = {\n",
    "    'voting': ['soft', 'hard'],\n",
    "}\n",
    "\n",
    "if run_grid_search:\n",
    "    voting = VotingClassifier(classifiers.copy())\n",
    "    grid_search = GridSearchCV(voting, param_grid=grid_params, n_jobs=max_parallel_jobs)\n",
    "    grid_search.fit(X, y)\n",
    "    cross_val = mean(cross_val_score(grid_search, X, y))\n",
    "    print(cross_val, grid_search.best_params_, grid_search.best_score_)"
   ],
   "metadata": {
    "collapsed": false
   }
  },
  {
   "cell_type": "markdown",
   "source": [
    "### Stacking classifier"
   ],
   "metadata": {
    "collapsed": false
   }
  },
  {
   "cell_type": "code",
   "execution_count": 12,
   "outputs": [
    {
     "name": "stdout",
     "output_type": "stream",
     "text": [
      "0.9193631685785771 {'cv': 10, 'passthrough': True, 'stack_method': 'predict'} 0.9232757399801728\n"
     ]
    }
   ],
   "source": [
    "from sklearn.ensemble import StackingClassifier\n",
    "\n",
    "# Melhor: {'cv': 10, 'passthrough': True, 'stack_method': 'predict'} 0.9232757399801728\n",
    "grid_params = {\n",
    "    'cv': list(range(1, 11, 1)),\n",
    "    'stack_method': ['auto', 'predict_proba', 'decision_function', 'predict'],\n",
    "    'passthrough': [False, True],\n",
    "}\n",
    "\n",
    "if run_grid_search:\n",
    "    stacking = StackingClassifier(classifiers.copy())\n",
    "    grid_search = GridSearchCV(stacking, param_grid=grid_params, n_jobs=max_parallel_jobs)\n",
    "    grid_search.fit(X, y)\n",
    "    cross_val = mean(cross_val_score(grid_search, X, y))\n",
    "    print(cross_val, grid_search.best_params_, grid_search.best_score_)"
   ],
   "metadata": {
    "collapsed": false
   }
  },
  {
   "cell_type": "markdown",
   "source": [
    "### Executar validação cruzada"
   ],
   "metadata": {
    "collapsed": false
   }
  },
  {
   "cell_type": "code",
   "execution_count": 14,
   "outputs": [
    {
     "data": {
      "text/plain": "                      Cross validation\nVoting                        0.917843\nStacking (default)            0.720503\nStacking (otimizado)          0.921971",
      "text/html": "<div>\n<style scoped>\n    .dataframe tbody tr th:only-of-type {\n        vertical-align: middle;\n    }\n\n    .dataframe tbody tr th {\n        vertical-align: top;\n    }\n\n    .dataframe thead th {\n        text-align: right;\n    }\n</style>\n<table border=\"1\" class=\"dataframe\">\n  <thead>\n    <tr style=\"text-align: right;\">\n      <th></th>\n      <th>Cross validation</th>\n    </tr>\n  </thead>\n  <tbody>\n    <tr>\n      <th>Voting</th>\n      <td>0.917843</td>\n    </tr>\n    <tr>\n      <th>Stacking (default)</th>\n      <td>0.720503</td>\n    </tr>\n    <tr>\n      <th>Stacking (otimizado)</th>\n      <td>0.921971</td>\n    </tr>\n  </tbody>\n</table>\n</div>"
     },
     "execution_count": 14,
     "metadata": {},
     "output_type": "execute_result"
    }
   ],
   "source": [
    "from sklearn.ensemble import VotingClassifier, StackingClassifier\n",
    "\n",
    "voting = VotingClassifier(classifiers.copy())\n",
    "stacking_default = StackingClassifier(classifiers.copy())\n",
    "stacking_optimized = StackingClassifier(classifiers.copy(), cv=10, passthrough=True, stack_method='predict')\n",
    "\n",
    "voting_cross_val = mean(cross_val_score(voting, X, y))\n",
    "stacking_default_cross_val = mean(cross_val_score(stacking_default, X, y))\n",
    "stacking_opt_cross_val = mean(cross_val_score(stacking_optimized, X, y))\n",
    "\n",
    "data = {\n",
    "    'Voting': [voting_cross_val],\n",
    "    'Stacking (default)': [stacking_default_cross_val],\n",
    "    'Stacking (otimizado)': [stacking_opt_cross_val],\n",
    "}\n",
    "columns = ['Cross validation']\n",
    "DataFrame.from_dict(data, orient='index', columns=columns)"
   ],
   "metadata": {
    "collapsed": false
   }
  }
 ],
 "metadata": {
  "kernelspec": {
   "display_name": "Python 3",
   "language": "python",
   "name": "python3"
  },
  "language_info": {
   "codemirror_mode": {
    "name": "ipython",
    "version": 2
   },
   "file_extension": ".py",
   "mimetype": "text/x-python",
   "name": "python",
   "nbconvert_exporter": "python",
   "pygments_lexer": "ipython2",
   "version": "2.7.6"
  }
 },
 "nbformat": 4,
 "nbformat_minor": 0
}
