{
 "cells": [
  {
   "cell_type": "markdown",
   "source": [
    "# Árvore de decisão — Heurística para escolher o melhor valor de cada característica"
   ],
   "metadata": {
    "collapsed": false
   }
  },
  {
   "cell_type": "markdown",
   "source": [
    "## Definir implementações"
   ],
   "metadata": {
    "collapsed": false
   }
  },
  {
   "cell_type": "markdown",
   "source": [
    "### Funções utilitárias"
   ],
   "metadata": {
    "collapsed": false
   }
  },
  {
   "cell_type": "code",
   "execution_count": 1,
   "outputs": [],
   "source": [
    "from collections import Counter\n",
    "from typing import Tuple\n",
    "from numpy import ndarray\n",
    "\n",
    "\n",
    "def most_frequently(y: ndarray):\n",
    "    return Counter(y.flat).most_common(1)[0][0]\n",
    "\n",
    "\n",
    "def gini_impurity(y: ndarray) -> float:\n",
    "    labels = sorted(set(y))\n",
    "    probabilities = numpy.zeros(shape=(len(labels),))\n",
    "\n",
    "    for index, key in enumerate(labels):\n",
    "        probabilities[index] = sum(y == key) / len(y)\n",
    "    return 1 - sum(probabilities ** 2)\n",
    "\n",
    "\n",
    "def impurity_value(x: ndarray, y: ndarray, value) -> Tuple[float, float, float]:\n",
    "    greater = x > value\n",
    "    impurity_gt = gini_impurity(y[greater])\n",
    "    probability_gt = sum(greater) / len(y)\n",
    "    impurity_lte = gini_impurity(y[~greater])\n",
    "    probability_lte = sum(~greater) / len(y)\n",
    "    total_impurity = impurity_gt * probability_gt + impurity_lte * probability_lte\n",
    "    return total_impurity, impurity_gt, impurity_lte\n",
    "\n",
    "\n",
    "def best_value(x: ndarray, y: ndarray) -> Tuple[float, float]:\n",
    "    result = None\n",
    "    min_impurity = float('inf')\n",
    "    x_max = numpy.max(x)\n",
    "    x_min = numpy.min(x)\n",
    "\n",
    "    while True:\n",
    "        mean_value = (x_min + x_max) / 2\n",
    "        total_impurity, greater_impurity, less_impurity = impurity_value(x, y, mean_value)\n",
    "\n",
    "        if total_impurity < min_impurity:\n",
    "            min_impurity = total_impurity\n",
    "            result = mean_value\n",
    "\n",
    "            if greater_impurity == 0 or less_impurity == 0:\n",
    "                break\n",
    "\n",
    "            if greater_impurity < less_impurity:\n",
    "                x_min = mean_value\n",
    "\n",
    "            else:\n",
    "                x_max = mean_value\n",
    "        else:\n",
    "            break\n",
    "\n",
    "    return result, min_impurity\n",
    "\n",
    "\n",
    "def best_feature(x: ndarray, y: ndarray):\n",
    "    impurities = []\n",
    "    values = []\n",
    "\n",
    "    for feature in range(x.shape[1]):\n",
    "        value, impurity = best_value(x[:, feature], y)\n",
    "        impurities.append(impurity)\n",
    "        values.append(value)\n",
    "    impurities = numpy.array(impurities)\n",
    "    feature = numpy.argmin(impurities)\n",
    "    return feature, values[feature], impurities[feature]"
   ],
   "metadata": {
    "collapsed": false
   }
  },
  {
   "cell_type": "code",
   "execution_count": 2,
   "outputs": [],
   "source": [
    "from sklearn.dummy import DummyClassifier\n",
    "from typing import Callable, TypedDict, Any\n",
    "from sklearn.model_selection import cross_val_score\n",
    "from sklearn.metrics import accuracy_score\n",
    "from pandas import DataFrame\n",
    "\n",
    "class ModelResult(TypedDict):\n",
    "    predict: float\n",
    "    cross_val: float\n",
    "\n",
    "\n",
    "def fit_predict(classifier_factory: Callable[[], Any], x: ndarray, y: ndarray) -> ModelResult:\n",
    "    classifier = classifier_factory()\n",
    "    classifier.fit(x, y)\n",
    "    predict = classifier.predict(x)\n",
    "    cross_val = cross_val_score(classifier_factory(), x, y)\n",
    "    return {'predict': predict, 'cross_val': numpy.mean(cross_val)}\n",
    "\n",
    "\n",
    "def show_comparison(x: ndarray, y: ndarray):\n",
    "    result_zero_r = fit_predict(lambda: DummyClassifier(strategy=\"most_frequent\"), x, y)\n",
    "    result_tree = fit_predict(lambda: Tree(), x, y)\n",
    "    result_my_tree = fit_predict(lambda: MyTree(), x, y)\n",
    "    result_scikit_tree = fit_predict(lambda: DecisionTreeClassifier(random_state=seed), x, y)\n",
    "    result = {\n",
    "        'Acurácia': [\n",
    "            accuracy_score(y, result_zero_r['predict']),\n",
    "            accuracy_score(y, result_tree['predict']),\n",
    "            accuracy_score(y, result_scikit_tree['predict']),\n",
    "            accuracy_score(y, result_my_tree['predict']),\n",
    "        ],\n",
    "        'Validação cruzada (média)': [\n",
    "            result_zero_r['cross_val'],\n",
    "            result_tree['cross_val'],\n",
    "            result_scikit_tree['cross_val'],\n",
    "            result_my_tree['cross_val'],\n",
    "        ]\n",
    "    }\n",
    "    columns = ['Zero R', 'Árvore (prof.)', 'Árvore (scikit)', 'Árvore (minha)']\n",
    "    return DataFrame.from_dict(result, orient='index', columns=columns)"
   ],
   "metadata": {
    "collapsed": false
   }
  },
  {
   "cell_type": "code",
   "execution_count": 3,
   "outputs": [],
   "source": [
    "import random\n",
    "\n",
    "# Semente para reprodutibilidade dos resultados\n",
    "seed = 13\n",
    "\n",
    "random.seed(seed)"
   ],
   "metadata": {
    "collapsed": false
   }
  },
  {
   "cell_type": "markdown",
   "source": [
    "### Implementação do professor"
   ],
   "metadata": {
    "collapsed": false
   }
  },
  {
   "cell_type": "code",
   "execution_count": 4,
   "outputs": [],
   "source": [
    "from sklearn.base import BaseEstimator, ClassifierMixin\n",
    "\n",
    "\n",
    "class Tree(BaseEstimator, ClassifierMixin):\n",
    "\n",
    "    def fit(self, x: ndarray, y: ndarray):\n",
    "        self.feature, self.value, self.impurity = best_feature(x, y)\n",
    "        self.value = numpy.mean(x[:, self.feature])\n",
    "        greater = x[:, self.feature] > self.value\n",
    "\n",
    "        if sum(greater) > 0 and sum(~greater) > 0:\n",
    "            self.greater = Tree()\n",
    "            self.greater.fit(x[greater, :], y[greater])\n",
    "            self.lte = Tree()\n",
    "            self.lte.fit(x[~greater, :], y[~greater])\n",
    "\n",
    "        else:\n",
    "            self.answer = most_frequently(y)\n",
    "\n",
    "    def predict(self, x: ndarray):\n",
    "        y = numpy.empty((x.shape[0]), dtype=numpy.int8)\n",
    "\n",
    "        if hasattr(self, 'answer'):\n",
    "            y[:] = self.answer\n",
    "\n",
    "        else:\n",
    "            greater = x[:, self.feature] > self.value\n",
    "            y[greater] = self.greater.predict(x[greater, :])\n",
    "            y[~greater] = self.lte.predict(x[~greater, :])\n",
    "\n",
    "        return y"
   ],
   "metadata": {
    "collapsed": false
   }
  },
  {
   "cell_type": "markdown",
   "source": [
    "### Heurística escolhida"
   ],
   "metadata": {
    "collapsed": false
   }
  },
  {
   "cell_type": "code",
   "execution_count": 5,
   "outputs": [],
   "source": [
    "def random_feature(data: ndarray) -> Tuple[int, float]:\n",
    "    feat = random.randint(0, data.shape[1] - 1)\n",
    "    x_min = numpy.min(data[:, feat])\n",
    "    x_max = numpy.max(data[:, feat])\n",
    "    valor = random.random() * (x_max - x_min) + x_min\n",
    "    return feat, valor\n",
    "\n",
    "\n",
    "class MyTree(Tree):\n",
    "\n",
    "    def fit(self, x: ndarray, y: ndarray):\n",
    "        self.feature, self.value = random_feature(x)\n",
    "        greater = x[:, self.feature] > self.value\n",
    "\n",
    "        if sum(greater) > 0 and sum(~greater) > 0:\n",
    "            self.greater = MyTree()\n",
    "            self.greater.fit(x[greater, :], y[greater])\n",
    "            self.lte = MyTree()\n",
    "            self.lte.fit(x[~greater, :], y[~greater])\n",
    "\n",
    "        else:\n",
    "            self.answer = most_frequently(y)"
   ],
   "metadata": {
    "collapsed": false
   }
  },
  {
   "cell_type": "markdown",
   "source": [
    "## Dataset: Iris"
   ],
   "metadata": {
    "collapsed": false
   }
  },
  {
   "cell_type": "markdown",
   "source": [
    "### Carregamento"
   ],
   "metadata": {
    "collapsed": false
   }
  },
  {
   "cell_type": "code",
   "execution_count": 6,
   "outputs": [],
   "source": [
    "from sklearn.datasets import load_iris\n",
    "\n",
    "iris_dataset = load_iris()\n",
    "iris_x, iris_y = iris_dataset.data[:, 2:], iris_dataset.target"
   ],
   "metadata": {
    "collapsed": false
   }
  },
  {
   "cell_type": "markdown",
   "source": [
    "### Comparação: Regiões de decisão"
   ],
   "metadata": {
    "collapsed": false
   }
  },
  {
   "cell_type": "code",
   "execution_count": 7,
   "outputs": [],
   "source": [
    "import numpy\n",
    "import matplotlib.pyplot as plot\n",
    "\n",
    "\n",
    "def plot_2d_decision_regions(model, x: ndarray, y: ndarray):\n",
    "    model.fit(x, y)\n",
    "    delta, n_points = 0.2, 100\n",
    "    x0_vals = numpy.linspace(numpy.min(x[:, 0]) - delta, numpy.max(x[:, 0]) + delta, n_points)\n",
    "    x1_vals = numpy.linspace(numpy.min(x[:, 1]) - delta, numpy.max(x[:, 1]) + delta, n_points)\n",
    "    x0, x1 = numpy.meshgrid(x0_vals, x1_vals)\n",
    "    x_dec = numpy.c_[x0.ravel(), x1.ravel()]\n",
    "    prediction = model.predict(x_dec)\n",
    "    plot.contourf(x0, x1, prediction.reshape(x0.shape), alpha=0.25)\n",
    "\n",
    "    for key in set(y):\n",
    "        plot.plot(x[:, 0][y == key], x[:, 1][y == key], 'o', label=f\"{iris_dataset.target_names[key]} [{key}]\")\n",
    "    plot.xlabel(f\"X[0]: {iris_dataset.feature_names[0]}\")\n",
    "    plot.ylabel(f\"X[1]: {iris_dataset.feature_names[1]}\")\n",
    "    plot.show()\n"
   ],
   "metadata": {
    "collapsed": false
   }
  },
  {
   "cell_type": "markdown",
   "source": [
    "#### Implementação do professor"
   ],
   "metadata": {
    "collapsed": false
   }
  },
  {
   "cell_type": "code",
   "execution_count": 8,
   "outputs": [
    {
     "data": {
      "text/plain": "<Figure size 640x480 with 1 Axes>",
      "image/png": "[encoded data removed]"
     },
     "metadata": {},
     "output_type": "display_data"
    }
   ],
   "source": [
    "from sklearn.tree import DecisionTreeClassifier\n",
    "\n",
    "tree = Tree()\n",
    "plot_2d_decision_regions(tree, iris_x, iris_y)"
   ],
   "metadata": {
    "collapsed": false
   }
  },
  {
   "cell_type": "markdown",
   "source": [
    "#### Minha implementação"
   ],
   "metadata": {
    "collapsed": false
   }
  },
  {
   "cell_type": "code",
   "execution_count": 9,
   "outputs": [
    {
     "data": {
      "text/plain": "<Figure size 640x480 with 1 Axes>",
      "image/png": "[encoded data removed]"
     },
     "metadata": {},
     "output_type": "display_data"
    }
   ],
   "source": [
    "my_tree = MyTree()\n",
    "plot_2d_decision_regions(my_tree, iris_x, iris_y)"
   ],
   "metadata": {
    "collapsed": false
   }
  },
  {
   "cell_type": "markdown",
   "source": [
    "#### Implementação Scikit-Learn"
   ],
   "metadata": {
    "collapsed": false
   }
  },
  {
   "cell_type": "code",
   "execution_count": 10,
   "outputs": [
    {
     "data": {
      "text/plain": "<Figure size 640x480 with 1 Axes>",
      "image/png": "[encoded data removed]"
     },
     "metadata": {},
     "output_type": "display_data"
    }
   ],
   "source": [
    "tree_sklearn = DecisionTreeClassifier(random_state=seed)\n",
    "plot_2d_decision_regions(tree_sklearn, iris_x, iris_y)"
   ],
   "metadata": {
    "collapsed": false
   }
  },
  {
   "cell_type": "markdown",
   "source": [
    "### Comparação: Acurácia e validação cruzada"
   ],
   "metadata": {
    "collapsed": false
   }
  },
  {
   "cell_type": "code",
   "execution_count": 11,
   "outputs": [
    {
     "data": {
      "text/plain": "                             Zero R  Árvore (prof.)  Árvore (scikit)  \\\nAcurácia                   0.333333        0.993333         0.993333   \nValidação cruzada (média)  0.333333        0.953333         0.953333   \n\n                           Árvore (minha)  \nAcurácia                         0.980000  \nValidação cruzada (média)        0.966667  ",
      "text/html": "<div>\n<style scoped>\n    .dataframe tbody tr th:only-of-type {\n        vertical-align: middle;\n    }\n\n    .dataframe tbody tr th {\n        vertical-align: top;\n    }\n\n    .dataframe thead th {\n        text-align: right;\n    }\n</style>\n<table border=\"1\" class=\"dataframe\">\n  <thead>\n    <tr style=\"text-align: right;\">\n      <th></th>\n      <th>Zero R</th>\n      <th>Árvore (prof.)</th>\n      <th>Árvore (scikit)</th>\n      <th>Árvore (minha)</th>\n    </tr>\n  </thead>\n  <tbody>\n    <tr>\n      <th>Acurácia</th>\n      <td>0.333333</td>\n      <td>0.993333</td>\n      <td>0.993333</td>\n      <td>0.980000</td>\n    </tr>\n    <tr>\n      <th>Validação cruzada (média)</th>\n      <td>0.333333</td>\n      <td>0.953333</td>\n      <td>0.953333</td>\n      <td>0.966667</td>\n    </tr>\n  </tbody>\n</table>\n</div>"
     },
     "execution_count": 11,
     "metadata": {},
     "output_type": "execute_result"
    }
   ],
   "source": [
    "show_comparison(iris_x, iris_y)"
   ],
   "metadata": {
    "collapsed": false
   }
  },
  {
   "cell_type": "markdown",
   "source": [
    "## Outros datasets"
   ],
   "metadata": {
    "collapsed": false
   }
  },
  {
   "cell_type": "markdown",
   "source": [
    "### Dataset 1: Electricity\n",
    "\n",
    "[Dataset (OpenML)](https://www.openml.org/search?type=data&sort=runs&status=active&qualities.NumberOfClasses=%3D_2&id=151)\n"
   ],
   "metadata": {
    "collapsed": false
   }
  },
  {
   "cell_type": "code",
   "execution_count": 12,
   "outputs": [],
   "source": [
    "from sklearn.datasets import fetch_openml\n",
    "\n",
    "dataset = fetch_openml(data_id=151)\n",
    "ds1_df_x: DataFrame = dataset['data'].select_dtypes(include=['number'])\n",
    "ds1_df_y: DataFrame = dataset['target'].map({'DOWN': 0, 'UP': 1})"
   ],
   "metadata": {
    "collapsed": false
   }
  },
  {
   "cell_type": "code",
   "execution_count": 13,
   "outputs": [
    {
     "data": {
      "text/plain": "'**Author**: M. Harries, J. Gama, A. Bifet  \\n**Source**: [Joao Gama](http://www.inescporto.pt/~jgama/ales/ales_5.html) - 2009  \\n**Please cite**: None  \\n\\n**Electricity** is a widely used dataset described by M. Harries and analyzed by J. Gama (see papers below). This data was collected from the Australian New South Wales Electricity Market. In this market, prices are not fixed and are affected by demand and supply of the market. They are set every five minutes. Electricity transfers to/from the neighboring state of Victoria were done to alleviate fluctuations.\\n\\nThe dataset (originally named ELEC2) contains 45,312 instances dated from 7 May 1996 to 5 December 1998. Each example of the dataset refers to a period of 30 minutes, i.e. there are 48 instances for each time period of one day. Each example on the dataset has 5 fields, the day of week, the time stamp, the New South Wales electricity demand, the Victoria electricity demand, the scheduled electricity transfer between states and the class label. The class label identifies the change of the price (UP or DOWN) in New South Wales relative to a moving average of the last 24 hours (and removes the impact of longer term price trends). \\n\\nThe data was normalized by A. Bifet.\\n\\n### Attribute information  \\n* Date: date between 7 May 1996 to 5 December 1998. Here normalized between 0 and 1\\n* Day: day of the week (1-7)\\n* Period: time of the measurement (1-48) in half hour intervals over 24 hours. Here normalized between 0 and 1\\n* NSWprice: New South Wales electricity price, normalized between 0 and 1\\n* NSWdemand: New South Wales electricity demand, normalized between 0 and 1\\n* VICprice: Victoria electricity price, normalized between 0 and 1\\n* VICdemand: Victoria electricity demand, normalized between 0 and 1\\n* transfer: scheduled electricity transfer between both states, normalized between 0 and 1\\n\\n### Relevant papers  \\nM. Harries. Splice-2 comparative evaluation: Electricity pricing. Technical report, The University of South Wales, 1999.  \\nJ. Gama, P. Medas, G. Castillo, and P. Rodrigues. Learning with drift detection. In SBIA Brazilian Symposium on Artificial Intelligence, pages 286–295, 2004.\\n\\nDownloaded from openml.org.'"
     },
     "execution_count": 13,
     "metadata": {},
     "output_type": "execute_result"
    }
   ],
   "source": [
    "dataset['DESCR']"
   ],
   "metadata": {
    "collapsed": false
   }
  },
  {
   "cell_type": "code",
   "execution_count": 14,
   "outputs": [
    {
     "data": {
      "text/plain": "                             Zero R  Árvore (prof.)  Árvore (scikit)  \\\nAcurácia                   0.575455        0.999890         0.999978   \nValidação cruzada (média)  0.575455        0.650819         0.666951   \n\n                           Árvore (minha)  \nAcurácia                         0.879039  \nValidação cruzada (média)        0.690784  ",
      "text/html": "<div>\n<style scoped>\n    .dataframe tbody tr th:only-of-type {\n        vertical-align: middle;\n    }\n\n    .dataframe tbody tr th {\n        vertical-align: top;\n    }\n\n    .dataframe thead th {\n        text-align: right;\n    }\n</style>\n<table border=\"1\" class=\"dataframe\">\n  <thead>\n    <tr style=\"text-align: right;\">\n      <th></th>\n      <th>Zero R</th>\n      <th>Árvore (prof.)</th>\n      <th>Árvore (scikit)</th>\n      <th>Árvore (minha)</th>\n    </tr>\n  </thead>\n  <tbody>\n    <tr>\n      <th>Acurácia</th>\n      <td>0.575455</td>\n      <td>0.999890</td>\n      <td>0.999978</td>\n      <td>0.879039</td>\n    </tr>\n    <tr>\n      <th>Validação cruzada (média)</th>\n      <td>0.575455</td>\n      <td>0.650819</td>\n      <td>0.666951</td>\n      <td>0.690784</td>\n    </tr>\n  </tbody>\n</table>\n</div>"
     },
     "execution_count": 14,
     "metadata": {},
     "output_type": "execute_result"
    }
   ],
   "source": [
    "ds1_x, ds1_y = numpy.array(ds1_df_x.drop('date', axis=1)), numpy.array(ds1_df_y)\n",
    "show_comparison(ds1_x, ds1_y)"
   ],
   "metadata": {
    "collapsed": false
   }
  },
  {
   "cell_type": "markdown",
   "source": [
    "### Dataset 2: Arrhythmia\n",
    "\n",
    "[Dataset (OpenML)](https://www.openml.org/search?type=data&id=1017&sort=runs&status=active)\n"
   ],
   "metadata": {
    "collapsed": false
   }
  },
  {
   "cell_type": "code",
   "execution_count": 15,
   "outputs": [],
   "source": [
    "from sklearn.datasets import fetch_openml\n",
    "from pandas import DataFrame\n",
    "\n",
    "dataset = fetch_openml(data_id=1017)\n",
    "ds2_df_x: DataFrame = dataset['data'].select_dtypes(include=['number'])\n",
    "ds2_df_y: DataFrame = dataset['target'].map({'N': 0, 'P': 1})"
   ],
   "metadata": {
    "collapsed": false
   }
  },
  {
   "cell_type": "code",
   "execution_count": 16,
   "outputs": [
    {
     "data": {
      "text/plain": "\"**Author**:   \\n**Source**: Unknown - Date unknown  \\n**Please cite**:   \\n\\nBinarized version of the original data set (see version 1). The multi-class target feature is converted to a two-class nominal target feature by re-labeling the majority class as positive ('P') and all others as negative ('N'). Originally converted by Quan Sun.\\n\\nDownloaded from openml.org.\""
     },
     "execution_count": 16,
     "metadata": {},
     "output_type": "execute_result"
    }
   ],
   "source": [
    "dataset['DESCR']"
   ],
   "metadata": {
    "collapsed": false
   }
  },
  {
   "cell_type": "code",
   "execution_count": 17,
   "outputs": [
    {
     "data": {
      "text/plain": "                             Zero R  Árvore (prof.)  Árvore (scikit)  \\\nAcurácia                   0.542035        1.000000         1.000000   \nValidação cruzada (média)  0.542051        0.661661         0.690183   \n\n                           Árvore (minha)  \nAcurácia                         0.542035  \nValidação cruzada (média)        0.593162  ",
      "text/html": "<div>\n<style scoped>\n    .dataframe tbody tr th:only-of-type {\n        vertical-align: middle;\n    }\n\n    .dataframe tbody tr th {\n        vertical-align: top;\n    }\n\n    .dataframe thead th {\n        text-align: right;\n    }\n</style>\n<table border=\"1\" class=\"dataframe\">\n  <thead>\n    <tr style=\"text-align: right;\">\n      <th></th>\n      <th>Zero R</th>\n      <th>Árvore (prof.)</th>\n      <th>Árvore (scikit)</th>\n      <th>Árvore (minha)</th>\n    </tr>\n  </thead>\n  <tbody>\n    <tr>\n      <th>Acurácia</th>\n      <td>0.542035</td>\n      <td>1.000000</td>\n      <td>1.000000</td>\n      <td>0.542035</td>\n    </tr>\n    <tr>\n      <th>Validação cruzada (média)</th>\n      <td>0.542051</td>\n      <td>0.661661</td>\n      <td>0.690183</td>\n      <td>0.593162</td>\n    </tr>\n  </tbody>\n</table>\n</div>"
     },
     "execution_count": 17,
     "metadata": {},
     "output_type": "execute_result"
    }
   ],
   "source": [
    "ds2_x, ds2_y = numpy.array(ds2_df_x.dropna(axis='columns')), numpy.array(ds2_df_y)\n",
    "show_comparison(ds2_x, ds2_y)"
   ],
   "metadata": {
    "collapsed": false
   }
  },
  {
   "cell_type": "markdown",
   "source": [
    "### Dataset 3: Communities and crime binary\n",
    "\n",
    "[Dataset (OpenML)](https://www.openml.org/search?type=data&id=43891&sort=runs&status=active)\n"
   ],
   "metadata": {
    "collapsed": false
   }
  },
  {
   "cell_type": "code",
   "execution_count": 18,
   "outputs": [],
   "source": [
    "from sklearn.datasets import fetch_openml\n",
    "from pandas import DataFrame\n",
    "\n",
    "dataset = fetch_openml(data_id=43891)\n",
    "ds3_df_x: DataFrame = dataset['data'].select_dtypes(include=['number'])\n",
    "ds3_df_y: DataFrame = dataset['target'].map({'1': 1, '0': 0})"
   ],
   "metadata": {
    "collapsed": false
   }
  },
  {
   "cell_type": "code",
   "execution_count": 19,
   "outputs": [
    {
     "data": {
      "text/plain": "\"Communities and Crime (Binarized) \\n The following changes were introduced to OpenML Dataset 315.\\n * binarized 'racepctblack' at 0.06 \\n binarized 'ViolentCrimesPerPop' at 0.2\\n\\nDownloaded from openml.org.\""
     },
     "execution_count": 19,
     "metadata": {},
     "output_type": "execute_result"
    }
   ],
   "source": [
    "dataset['DESCR']"
   ],
   "metadata": {
    "collapsed": false
   }
  },
  {
   "cell_type": "code",
   "execution_count": 20,
   "outputs": [
    {
     "data": {
      "text/plain": "                             Zero R  Árvore (prof.)  Árvore (scikit)  \\\nAcurácia                   0.576229        1.000000         1.000000   \nValidação cruzada (média)  0.576228        0.752775         0.731728   \n\n                           Árvore (minha)  \nAcurácia                         0.972417  \nValidação cruzada (média)        0.709128  ",
      "text/html": "<div>\n<style scoped>\n    .dataframe tbody tr th:only-of-type {\n        vertical-align: middle;\n    }\n\n    .dataframe tbody tr th {\n        vertical-align: top;\n    }\n\n    .dataframe thead th {\n        text-align: right;\n    }\n</style>\n<table border=\"1\" class=\"dataframe\">\n  <thead>\n    <tr style=\"text-align: right;\">\n      <th></th>\n      <th>Zero R</th>\n      <th>Árvore (prof.)</th>\n      <th>Árvore (scikit)</th>\n      <th>Árvore (minha)</th>\n    </tr>\n  </thead>\n  <tbody>\n    <tr>\n      <th>Acurácia</th>\n      <td>0.576229</td>\n      <td>1.000000</td>\n      <td>1.000000</td>\n      <td>0.972417</td>\n    </tr>\n    <tr>\n      <th>Validação cruzada (média)</th>\n      <td>0.576228</td>\n      <td>0.752775</td>\n      <td>0.731728</td>\n      <td>0.709128</td>\n    </tr>\n  </tbody>\n</table>\n</div>"
     },
     "execution_count": 20,
     "metadata": {},
     "output_type": "execute_result"
    }
   ],
   "source": [
    "ds3_x, ds3_y = numpy.array(ds3_df_x.dropna(axis='columns')), numpy.array(ds3_df_y)\n",
    "show_comparison(ds3_x, ds3_y)"
   ],
   "metadata": {
    "collapsed": false
   }
  },
  {
   "cell_type": "markdown",
   "source": [
    "## Análise"
   ],
   "metadata": {
    "collapsed": false
   }
  },
  {
   "cell_type": "markdown",
   "source": [
    "Os resultados de cada implementação (minha, scikit e a do professor) variaram bastante por dataset, ou seja, não teve uma implementação que obteve os melhores resultados em todos os conjuntos de dados. Todas implementações apresentaram seus melhores resultados no Iris dataset, acredito que o fato de todas features serem numéricas tenha colaborado para isso, diferente dos outros três datasets, que ignorei todas as características não numéricas."
   ],
   "metadata": {
    "collapsed": false
   }
  }
 ],
 "metadata": {
  "kernelspec": {
   "display_name": "Python 3",
   "language": "python",
   "name": "python3"
  },
  "language_info": {
   "codemirror_mode": {
    "name": "ipython",
    "version": 2
   },
   "file_extension": ".py",
   "mimetype": "text/x-python",
   "name": "python",
   "nbconvert_exporter": "python",
   "pygments_lexer": "ipython2",
   "version": "2.7.6"
  }
 },
 "nbformat": 4,
 "nbformat_minor": 0
}
