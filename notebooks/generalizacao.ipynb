{
 "cells": [
  {
   "cell_type": "markdown",
   "source": [
    "# Comparação Generalização - Statlog (German Credit Data) Data Set\n",
    "\n",
    "[Dataset (OpenML)](https://www.openml.org/search?type=data&sort=runs&status=active&qualities.NumberOfClasses=%3D_2&id=31)\n",
    "\n",
    "**Referência:** Dua, D. and Graff, C. (2019). UCI Machine Learning Repository [https://archive.ics.uci.edu/ml]. Irvine, CA: University of California, School of Information and Computer Science."
   ],
   "metadata": {
    "collapsed": false
   }
  },
  {
   "cell_type": "markdown",
   "source": [
    "## Carregamento do dataset"
   ],
   "metadata": {
    "collapsed": false
   }
  },
  {
   "cell_type": "code",
   "execution_count": 66,
   "outputs": [],
   "source": [
    "from sklearn.datasets import fetch_openml\n",
    "\n",
    "credit_dataset = fetch_openml(data_id=31)"
   ],
   "metadata": {
    "collapsed": false
   }
  },
  {
   "cell_type": "markdown",
   "source": [
    "## Metadados do dataset"
   ],
   "metadata": {
    "collapsed": false
   }
  },
  {
   "cell_type": "code",
   "execution_count": 67,
   "outputs": [
    {
     "data": {
      "text/plain": "dict_keys(['data', 'target', 'frame', 'categories', 'feature_names', 'target_names', 'DESCR', 'details', 'url'])"
     },
     "execution_count": 67,
     "metadata": {},
     "output_type": "execute_result"
    }
   ],
   "source": [
    "credit_dataset.keys()"
   ],
   "metadata": {
    "collapsed": false
   }
  },
  {
   "cell_type": "code",
   "execution_count": 68,
   "outputs": [
    {
     "data": {
      "text/plain": "'**Author**: Dr. Hans Hofmann  \\n**Source**: [UCI](https://archive.ics.uci.edu/ml/datasets/statlog+(german+credit+data)) - 1994    \\n**Please cite**: [UCI](https://archive.ics.uci.edu/ml/citation_policy.html)\\n\\n**German Credit dataset**  \\nThis dataset classifies people described by a set of attributes as good or bad credit risks.\\n\\nThis dataset comes with a cost matrix: \\n``` \\nGood  Bad (predicted)  \\nGood   0    1   (actual)  \\nBad    5    0  \\n```\\n\\nIt is worse to class a customer as good when they are bad (5), than it is to class a customer as bad when they are good (1).  \\n\\n### Attribute description  \\n\\n1. Status of the existing checking account, in Deutsche Mark.  \\n2. Duration in months  \\n3. Credit history (credits taken, paid back duly, delays, critical accounts)  \\n4. Purpose of the credit (car, television,...)  \\n5. Credit amount  \\n6. Status of savings account/bonds, in Deutsche Mark.  \\n7. Present employment, in number of years.  \\n8. Installment rate in percentage of disposable income  \\n9. Personal status (married, single,...) and sex  \\n10. Other debtors / guarantors  \\n11. Present residence since X years  \\n12. Property (e.g. real estate)  \\n13. Age in years  \\n14. Other installment plans (banks, stores)  \\n15. Housing (rent, own,...)  \\n16. Number of existing credits at this bank  \\n17. Job  \\n18. Number of people being liable to provide maintenance for  \\n19. Telephone (yes,no)  \\n20. Foreign worker (yes,no)\\n\\nDownloaded from openml.org.'"
     },
     "execution_count": 68,
     "metadata": {},
     "output_type": "execute_result"
    }
   ],
   "source": [
    "credit_dataset['DESCR']"
   ],
   "metadata": {
    "collapsed": false
   }
  },
  {
   "cell_type": "code",
   "execution_count": 69,
   "outputs": [
    {
     "data": {
      "text/plain": "    checking_status  duration                  credit_history  \\\n0                <0       6.0  critical/other existing credit   \n1          0<=X<200      48.0                   existing paid   \n2       no checking      12.0  critical/other existing credit   \n3                <0      42.0                   existing paid   \n4                <0      24.0              delayed previously   \n..              ...       ...                             ...   \n995     no checking      12.0                   existing paid   \n996              <0      30.0                   existing paid   \n997     no checking      12.0                   existing paid   \n998              <0      45.0                   existing paid   \n999        0<=X<200      45.0  critical/other existing credit   \n\n                 purpose  credit_amount    savings_status  employment  \\\n0               radio/tv         1169.0  no known savings         >=7   \n1               radio/tv         5951.0              <100      1<=X<4   \n2              education         2096.0              <100      4<=X<7   \n3    furniture/equipment         7882.0              <100      4<=X<7   \n4                new car         4870.0              <100      1<=X<4   \n..                   ...            ...               ...         ...   \n995  furniture/equipment         1736.0              <100      4<=X<7   \n996             used car         3857.0              <100      1<=X<4   \n997             radio/tv          804.0              <100         >=7   \n998             radio/tv         1845.0              <100      1<=X<4   \n999             used car         4576.0        100<=X<500  unemployed   \n\n     installment_commitment     personal_status other_parties  \\\n0                       4.0         male single          none   \n1                       2.0  female div/dep/mar          none   \n2                       2.0         male single          none   \n3                       2.0         male single     guarantor   \n4                       3.0         male single          none   \n..                      ...                 ...           ...   \n995                     3.0  female div/dep/mar          none   \n996                     4.0        male div/sep          none   \n997                     4.0         male single          none   \n998                     4.0         male single          none   \n999                     3.0         male single          none   \n\n     residence_since property_magnitude   age other_payment_plans   housing  \\\n0                4.0        real estate  67.0                none       own   \n1                2.0        real estate  22.0                none       own   \n2                3.0        real estate  49.0                none       own   \n3                4.0     life insurance  45.0                none  for free   \n4                4.0  no known property  53.0                none  for free   \n..               ...                ...   ...                 ...       ...   \n995              4.0        real estate  31.0                none       own   \n996              4.0     life insurance  40.0                none       own   \n997              4.0                car  38.0                none       own   \n998              4.0  no known property  23.0                none  for free   \n999              4.0                car  27.0                none       own   \n\n     existing_credits                        job  num_dependents  \\\n0                 2.0                    skilled             1.0   \n1                 1.0                    skilled             1.0   \n2                 1.0         unskilled resident             2.0   \n3                 1.0                    skilled             2.0   \n4                 2.0                    skilled             2.0   \n..                ...                        ...             ...   \n995               1.0         unskilled resident             1.0   \n996               1.0  high qualif/self emp/mgmt             1.0   \n997               1.0                    skilled             1.0   \n998               1.0                    skilled             1.0   \n999               1.0                    skilled             1.0   \n\n    own_telephone foreign_worker  \n0             yes            yes  \n1            none            yes  \n2            none            yes  \n3            none            yes  \n4            none            yes  \n..            ...            ...  \n995          none            yes  \n996           yes            yes  \n997          none            yes  \n998           yes            yes  \n999          none            yes  \n\n[1000 rows x 20 columns]",
      "text/html": "<div>\n<style scoped>\n    .dataframe tbody tr th:only-of-type {\n        vertical-align: middle;\n    }\n\n    .dataframe tbody tr th {\n        vertical-align: top;\n    }\n\n    .dataframe thead th {\n        text-align: right;\n    }\n</style>\n<table border=\"1\" class=\"dataframe\">\n  <thead>\n    <tr style=\"text-align: right;\">\n      <th></th>\n      <th>checking_status</th>\n      <th>duration</th>\n      <th>credit_history</th>\n      <th>purpose</th>\n      <th>credit_amount</th>\n      <th>savings_status</th>\n      <th>employment</th>\n      <th>installment_commitment</th>\n      <th>personal_status</th>\n      <th>other_parties</th>\n      <th>residence_since</th>\n      <th>property_magnitude</th>\n      <th>age</th>\n      <th>other_payment_plans</th>\n      <th>housing</th>\n      <th>existing_credits</th>\n      <th>job</th>\n      <th>num_dependents</th>\n      <th>own_telephone</th>\n      <th>foreign_worker</th>\n    </tr>\n  </thead>\n  <tbody>\n    <tr>\n      <th>0</th>\n      <td>&lt;0</td>\n      <td>6.0</td>\n      <td>critical/other existing credit</td>\n      <td>radio/tv</td>\n      <td>1169.0</td>\n      <td>no known savings</td>\n      <td>&gt;=7</td>\n      <td>4.0</td>\n      <td>male single</td>\n      <td>none</td>\n      <td>4.0</td>\n      <td>real estate</td>\n      <td>67.0</td>\n      <td>none</td>\n      <td>own</td>\n      <td>2.0</td>\n      <td>skilled</td>\n      <td>1.0</td>\n      <td>yes</td>\n      <td>yes</td>\n    </tr>\n    <tr>\n      <th>1</th>\n      <td>0&lt;=X&lt;200</td>\n      <td>48.0</td>\n      <td>existing paid</td>\n      <td>radio/tv</td>\n      <td>5951.0</td>\n      <td>&lt;100</td>\n      <td>1&lt;=X&lt;4</td>\n      <td>2.0</td>\n      <td>female div/dep/mar</td>\n      <td>none</td>\n      <td>2.0</td>\n      <td>real estate</td>\n      <td>22.0</td>\n      <td>none</td>\n      <td>own</td>\n      <td>1.0</td>\n      <td>skilled</td>\n      <td>1.0</td>\n      <td>none</td>\n      <td>yes</td>\n    </tr>\n    <tr>\n      <th>2</th>\n      <td>no checking</td>\n      <td>12.0</td>\n      <td>critical/other existing credit</td>\n      <td>education</td>\n      <td>2096.0</td>\n      <td>&lt;100</td>\n      <td>4&lt;=X&lt;7</td>\n      <td>2.0</td>\n      <td>male single</td>\n      <td>none</td>\n      <td>3.0</td>\n      <td>real estate</td>\n      <td>49.0</td>\n      <td>none</td>\n      <td>own</td>\n      <td>1.0</td>\n      <td>unskilled resident</td>\n      <td>2.0</td>\n      <td>none</td>\n      <td>yes</td>\n    </tr>\n    <tr>\n      <th>3</th>\n      <td>&lt;0</td>\n      <td>42.0</td>\n      <td>existing paid</td>\n      <td>furniture/equipment</td>\n      <td>7882.0</td>\n      <td>&lt;100</td>\n      <td>4&lt;=X&lt;7</td>\n      <td>2.0</td>\n      <td>male single</td>\n      <td>guarantor</td>\n      <td>4.0</td>\n      <td>life insurance</td>\n      <td>45.0</td>\n      <td>none</td>\n      <td>for free</td>\n      <td>1.0</td>\n      <td>skilled</td>\n      <td>2.0</td>\n      <td>none</td>\n      <td>yes</td>\n    </tr>\n    <tr>\n      <th>4</th>\n      <td>&lt;0</td>\n      <td>24.0</td>\n      <td>delayed previously</td>\n      <td>new car</td>\n      <td>4870.0</td>\n      <td>&lt;100</td>\n      <td>1&lt;=X&lt;4</td>\n      <td>3.0</td>\n      <td>male single</td>\n      <td>none</td>\n      <td>4.0</td>\n      <td>no known property</td>\n      <td>53.0</td>\n      <td>none</td>\n      <td>for free</td>\n      <td>2.0</td>\n      <td>skilled</td>\n      <td>2.0</td>\n      <td>none</td>\n      <td>yes</td>\n    </tr>\n    <tr>\n      <th>...</th>\n      <td>...</td>\n      <td>...</td>\n      <td>...</td>\n      <td>...</td>\n      <td>...</td>\n      <td>...</td>\n      <td>...</td>\n      <td>...</td>\n      <td>...</td>\n      <td>...</td>\n      <td>...</td>\n      <td>...</td>\n      <td>...</td>\n      <td>...</td>\n      <td>...</td>\n      <td>...</td>\n      <td>...</td>\n      <td>...</td>\n      <td>...</td>\n      <td>...</td>\n    </tr>\n    <tr>\n      <th>995</th>\n      <td>no checking</td>\n      <td>12.0</td>\n      <td>existing paid</td>\n      <td>furniture/equipment</td>\n      <td>1736.0</td>\n      <td>&lt;100</td>\n      <td>4&lt;=X&lt;7</td>\n      <td>3.0</td>\n      <td>female div/dep/mar</td>\n      <td>none</td>\n      <td>4.0</td>\n      <td>real estate</td>\n      <td>31.0</td>\n      <td>none</td>\n      <td>own</td>\n      <td>1.0</td>\n      <td>unskilled resident</td>\n      <td>1.0</td>\n      <td>none</td>\n      <td>yes</td>\n    </tr>\n    <tr>\n      <th>996</th>\n      <td>&lt;0</td>\n      <td>30.0</td>\n      <td>existing paid</td>\n      <td>used car</td>\n      <td>3857.0</td>\n      <td>&lt;100</td>\n      <td>1&lt;=X&lt;4</td>\n      <td>4.0</td>\n      <td>male div/sep</td>\n      <td>none</td>\n      <td>4.0</td>\n      <td>life insurance</td>\n      <td>40.0</td>\n      <td>none</td>\n      <td>own</td>\n      <td>1.0</td>\n      <td>high qualif/self emp/mgmt</td>\n      <td>1.0</td>\n      <td>yes</td>\n      <td>yes</td>\n    </tr>\n    <tr>\n      <th>997</th>\n      <td>no checking</td>\n      <td>12.0</td>\n      <td>existing paid</td>\n      <td>radio/tv</td>\n      <td>804.0</td>\n      <td>&lt;100</td>\n      <td>&gt;=7</td>\n      <td>4.0</td>\n      <td>male single</td>\n      <td>none</td>\n      <td>4.0</td>\n      <td>car</td>\n      <td>38.0</td>\n      <td>none</td>\n      <td>own</td>\n      <td>1.0</td>\n      <td>skilled</td>\n      <td>1.0</td>\n      <td>none</td>\n      <td>yes</td>\n    </tr>\n    <tr>\n      <th>998</th>\n      <td>&lt;0</td>\n      <td>45.0</td>\n      <td>existing paid</td>\n      <td>radio/tv</td>\n      <td>1845.0</td>\n      <td>&lt;100</td>\n      <td>1&lt;=X&lt;4</td>\n      <td>4.0</td>\n      <td>male single</td>\n      <td>none</td>\n      <td>4.0</td>\n      <td>no known property</td>\n      <td>23.0</td>\n      <td>none</td>\n      <td>for free</td>\n      <td>1.0</td>\n      <td>skilled</td>\n      <td>1.0</td>\n      <td>yes</td>\n      <td>yes</td>\n    </tr>\n    <tr>\n      <th>999</th>\n      <td>0&lt;=X&lt;200</td>\n      <td>45.0</td>\n      <td>critical/other existing credit</td>\n      <td>used car</td>\n      <td>4576.0</td>\n      <td>100&lt;=X&lt;500</td>\n      <td>unemployed</td>\n      <td>3.0</td>\n      <td>male single</td>\n      <td>none</td>\n      <td>4.0</td>\n      <td>car</td>\n      <td>27.0</td>\n      <td>none</td>\n      <td>own</td>\n      <td>1.0</td>\n      <td>skilled</td>\n      <td>1.0</td>\n      <td>none</td>\n      <td>yes</td>\n    </tr>\n  </tbody>\n</table>\n<p>1000 rows × 20 columns</p>\n</div>"
     },
     "execution_count": 69,
     "metadata": {},
     "output_type": "execute_result"
    }
   ],
   "source": [
    "credit_dataset['data']"
   ],
   "metadata": {
    "collapsed": false
   }
  },
  {
   "cell_type": "code",
   "execution_count": 70,
   "outputs": [
    {
     "data": {
      "text/plain": "checking_status           category\nduration                   float64\ncredit_history            category\npurpose                   category\ncredit_amount              float64\nsavings_status            category\nemployment                category\ninstallment_commitment     float64\npersonal_status           category\nother_parties             category\nresidence_since            float64\nproperty_magnitude        category\nage                        float64\nother_payment_plans       category\nhousing                   category\nexisting_credits           float64\njob                       category\nnum_dependents             float64\nown_telephone             category\nforeign_worker            category\ndtype: object"
     },
     "execution_count": 70,
     "metadata": {},
     "output_type": "execute_result"
    }
   ],
   "source": [
    "from pandas import DataFrame\n",
    "\n",
    "dataframe: DataFrame = credit_dataset['data']\n",
    "dataframe.dtypes"
   ],
   "metadata": {
    "collapsed": false
   }
  },
  {
   "cell_type": "code",
   "execution_count": 71,
   "outputs": [
    {
     "data": {
      "text/plain": "0      good\n1       bad\n2      good\n3      good\n4       bad\n       ... \n995    good\n996    good\n997    good\n998     bad\n999    good\nName: class, Length: 1000, dtype: category\nCategories (2, object): ['good', 'bad']"
     },
     "execution_count": 71,
     "metadata": {},
     "output_type": "execute_result"
    }
   ],
   "source": [
    "target = credit_dataset['target']\n",
    "target"
   ],
   "metadata": {
    "collapsed": false
   }
  },
  {
   "cell_type": "markdown",
   "source": [
    "## Treinamento do modelo"
   ],
   "metadata": {
    "collapsed": false
   }
  },
  {
   "cell_type": "markdown",
   "source": [
    "### Executar cada método de classificação 10 vezes e armazenar predições"
   ],
   "metadata": {
    "collapsed": false
   }
  },
  {
   "cell_type": "code",
   "execution_count": 72,
   "outputs": [],
   "source": [
    "# Selecione apenas features numéricas\n",
    "features = dataframe.select_dtypes(include=['number'])\n",
    "\n",
    "# Liste os estados aleatórios para embaralhar dataset\n",
    "random_states = [1, 2, 3, 5, 8, 13, 21, 34, 55, 89]\n",
    "\n",
    "# Inicialize as listas para armazenar os resultados\n",
    "knn_accuracy, knn_iou, knn_precision, knn_recall = [], [], [], []\n",
    "logistic_accuracy, logistic_iou, logistic_precision, logistic_recall = [], [], [], []"
   ],
   "metadata": {
    "collapsed": false
   }
  },
  {
   "cell_type": "code",
   "execution_count": 73,
   "outputs": [],
   "source": [
    "from sklearn.model_selection import train_test_split\n",
    "from sklearn.linear_model import LogisticRegression\n",
    "from sklearn.neighbors import KNeighborsClassifier\n",
    "from sklearn.preprocessing import LabelEncoder\n",
    "from sklearn.metrics import accuracy_score, jaccard_score, recall_score, precision_score\n",
    "\n",
    "for state in random_states:\n",
    "\n",
    "    # Separe 25% do dataset para teste e outros 75% use para treino\n",
    "    x_train, x_test, y_train, y_test = train_test_split(features, target, test_size=0.25, random_state=state)\n",
    "\n",
    "    logistic_model = LogisticRegression(max_iter=350)\n",
    "    logistic_model.fit(x_train, y_train)\n",
    "    logistic_y_predicted = logistic_model.predict(x_test)\n",
    "\n",
    "    knn_model = KNeighborsClassifier(n_neighbors=50)\n",
    "    knn_model.fit(x_train, y_train)\n",
    "    knn_y_predicted = knn_model.predict(x_test)\n",
    "\n",
    "    # Encoder para converter a saída esperada de string ('bad', 'good') para números avaliáveis pelas métricas\n",
    "    label_encoder = LabelEncoder().fit(y_test)\n",
    "    y_test_int = label_encoder.transform(y_test)\n",
    "\n",
    "    knn_y_predict_int = label_encoder.transform(knn_y_predicted)\n",
    "    knn_accuracy.append(accuracy_score(y_test_int, knn_y_predict_int))\n",
    "    knn_iou.append(jaccard_score(y_test_int, knn_y_predict_int))\n",
    "    knn_precision.append(precision_score(y_test_int, knn_y_predict_int))\n",
    "    knn_recall.append(recall_score(y_test_int, knn_y_predict_int))\n",
    "\n",
    "    logistic_y_predict_int = label_encoder.transform(logistic_y_predicted)\n",
    "    logistic_accuracy.append(accuracy_score(y_test_int, logistic_y_predict_int))\n",
    "    logistic_iou.append(jaccard_score(y_test_int, logistic_y_predict_int))\n",
    "    logistic_precision.append(precision_score(y_test_int, logistic_y_predict_int))\n",
    "    logistic_recall.append(recall_score(y_test_int, logistic_y_predict_int))"
   ],
   "metadata": {
    "collapsed": false
   }
  },
  {
   "cell_type": "markdown",
   "source": [
    "## Visualização dos resultados"
   ],
   "metadata": {
    "collapsed": false
   }
  },
  {
   "cell_type": "markdown",
   "source": [
    "### Métricas gerais (Acurácia, Interseção sobre União, Precisão, Sensibilidade)"
   ],
   "metadata": {
    "collapsed": false
   }
  },
  {
   "cell_type": "code",
   "execution_count": 74,
   "outputs": [
    {
     "data": {
      "text/plain": "                             Logistic Regression       KNN\nAcurácia (média)                        0.694800  0.698800\nJaccard Index / IoU (média)             0.684867  0.692986\nPrecision (média)                       0.711563  0.707311\nRecall (média)                          0.947999  0.972277",
      "text/html": "<div>\n<style scoped>\n    .dataframe tbody tr th:only-of-type {\n        vertical-align: middle;\n    }\n\n    .dataframe tbody tr th {\n        vertical-align: top;\n    }\n\n    .dataframe thead th {\n        text-align: right;\n    }\n</style>\n<table border=\"1\" class=\"dataframe\">\n  <thead>\n    <tr style=\"text-align: right;\">\n      <th></th>\n      <th>Logistic Regression</th>\n      <th>KNN</th>\n    </tr>\n  </thead>\n  <tbody>\n    <tr>\n      <th>Acurácia (média)</th>\n      <td>0.694800</td>\n      <td>0.698800</td>\n    </tr>\n    <tr>\n      <th>Jaccard Index / IoU (média)</th>\n      <td>0.684867</td>\n      <td>0.692986</td>\n    </tr>\n    <tr>\n      <th>Precision (média)</th>\n      <td>0.711563</td>\n      <td>0.707311</td>\n    </tr>\n    <tr>\n      <th>Recall (média)</th>\n      <td>0.947999</td>\n      <td>0.972277</td>\n    </tr>\n  </tbody>\n</table>\n</div>"
     },
     "execution_count": 74,
     "metadata": {},
     "output_type": "execute_result"
    }
   ],
   "source": [
    "from numpy import mean\n",
    "\n",
    "data = {\n",
    "    'Acurácia (média)': [mean(logistic_accuracy), mean(knn_accuracy)],\n",
    "    'Jaccard Index / IoU (média)': [mean(logistic_iou), mean(knn_iou)],\n",
    "    'Precision (média)': [mean(logistic_precision), mean(knn_precision)],\n",
    "    'Recall (média)': [mean(logistic_recall), mean(knn_recall)],\n",
    "}\n",
    "\n",
    "columns = ['Logistic Regression', 'KNN']\n",
    "DataFrame.from_dict(data, orient='index', columns=columns)"
   ],
   "metadata": {
    "collapsed": false
   }
  }
 ],
 "metadata": {
  "kernelspec": {
   "display_name": "Python 3",
   "language": "python",
   "name": "python3"
  },
  "language_info": {
   "codemirror_mode": {
    "name": "ipython",
    "version": 2
   },
   "file_extension": ".py",
   "mimetype": "text/x-python",
   "name": "python",
   "nbconvert_exporter": "python",
   "pygments_lexer": "ipython2",
   "version": "2.7.6"
  }
 },
 "nbformat": 4,
 "nbformat_minor": 0
}
